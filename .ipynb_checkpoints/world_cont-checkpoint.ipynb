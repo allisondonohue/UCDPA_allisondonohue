{
 "cells": [
  {
   "cell_type": "code",
   "execution_count": 3,
   "id": "28a1fdbe",
   "metadata": {
    "scrolled": true
   },
   "outputs": [],
   "source": [
    "import pandas as pd\n",
    "import numpy as np\n",
    "continents = pd.read_csv(\"C:\\\\Users\\\\allis\\\\OneDrive\\\\Documents\\\\UCD\\\\UCDPA_allisondonohue\\\\continents2.csv\")\n",
    "world = pd.read_csv(\"C:\\\\Users\\\\allis\\\\OneDrive\\\\Documents\\\\UCD\\\\UCDPA_allisondonohue\\\\world_population.csv\")"
   ]
  },
  {
   "cell_type": "code",
   "execution_count": 4,
   "id": "d7b22536",
   "metadata": {},
   "outputs": [
    {
     "name": "stdout",
     "output_type": "stream",
     "text": [
      "(201, 11)\n",
      "<class 'pandas.core.frame.DataFrame'>\n",
      "RangeIndex: 201 entries, 0 to 200\n",
      "Data columns (total 11 columns):\n",
      " #   Column             Non-Null Count  Dtype  \n",
      "---  ------             --------------  -----  \n",
      " 0   Country/Other      201 non-null    object \n",
      " 1   Population (2020)  201 non-null    int64  \n",
      " 2   Yearly Change      201 non-null    float64\n",
      " 3   Net Change         201 non-null    int64  \n",
      " 4   Density (P/Km²)    201 non-null    int64  \n",
      " 5   Land Area (Km²)    201 non-null    int64  \n",
      " 6   Migrants (net)     201 non-null    int64  \n",
      " 7   Fert. Rate         201 non-null    float64\n",
      " 8   Med. Age           201 non-null    int64  \n",
      " 9   Urban Pop %        194 non-null    float64\n",
      " 10  World Share        201 non-null    float64\n",
      "dtypes: float64(4), int64(6), object(1)\n",
      "memory usage: 17.4+ KB\n",
      "None\n"
     ]
    }
   ],
   "source": [
    "print(world.shape)\n",
    "print(world.info())"
   ]
  },
  {
   "cell_type": "code",
   "execution_count": 5,
   "id": "67c8c45b",
   "metadata": {
    "scrolled": true
   },
   "outputs": [
    {
     "name": "stdout",
     "output_type": "stream",
     "text": [
      "(249, 11)\n",
      "<class 'pandas.core.frame.DataFrame'>\n",
      "RangeIndex: 249 entries, 0 to 248\n",
      "Data columns (total 11 columns):\n",
      " #   Column                    Non-Null Count  Dtype  \n",
      "---  ------                    --------------  -----  \n",
      " 0   name                      249 non-null    object \n",
      " 1   alpha-2                   248 non-null    object \n",
      " 2   alpha-3                   249 non-null    object \n",
      " 3   country-code              249 non-null    int64  \n",
      " 4   iso_3166-2                249 non-null    object \n",
      " 5   region                    248 non-null    object \n",
      " 6   sub-region                248 non-null    object \n",
      " 7   intermediate-region       107 non-null    object \n",
      " 8   region-code               248 non-null    float64\n",
      " 9   sub-region-code           248 non-null    float64\n",
      " 10  intermediate-region-code  107 non-null    float64\n",
      "dtypes: float64(3), int64(1), object(7)\n",
      "memory usage: 21.5+ KB\n",
      "None\n"
     ]
    }
   ],
   "source": [
    "print(continents.shape)\n",
    "print(continents.info())"
   ]
  },
  {
   "cell_type": "code",
   "execution_count": 6,
   "id": "1b518731",
   "metadata": {
    "scrolled": true
   },
   "outputs": [
    {
     "name": "stdout",
     "output_type": "stream",
     "text": [
      "<class 'pandas.core.frame.DataFrame'>\n",
      "Int64Index: 201 entries, 0 to 200\n",
      "Data columns (total 22 columns):\n",
      " #   Column                    Non-Null Count  Dtype  \n",
      "---  ------                    --------------  -----  \n",
      " 0   Country/Other             201 non-null    object \n",
      " 1   Population (2020)         201 non-null    int64  \n",
      " 2   Yearly Change             201 non-null    float64\n",
      " 3   Net Change                201 non-null    int64  \n",
      " 4   Density (P/Km²)           201 non-null    int64  \n",
      " 5   Land Area (Km²)           201 non-null    int64  \n",
      " 6   Migrants (net)            201 non-null    int64  \n",
      " 7   Fert. Rate                201 non-null    float64\n",
      " 8   Med. Age                  201 non-null    int64  \n",
      " 9   Urban Pop %               194 non-null    float64\n",
      " 10  World Share               201 non-null    float64\n",
      " 11  name                      187 non-null    object \n",
      " 12  alpha-2                   186 non-null    object \n",
      " 13  alpha-3                   187 non-null    object \n",
      " 14  country-code              187 non-null    float64\n",
      " 15  iso_3166-2                187 non-null    object \n",
      " 16  region                    187 non-null    object \n",
      " 17  sub-region                187 non-null    object \n",
      " 18  intermediate-region       82 non-null     object \n",
      " 19  region-code               187 non-null    float64\n",
      " 20  sub-region-code           187 non-null    float64\n",
      " 21  intermediate-region-code  82 non-null     float64\n",
      "dtypes: float64(8), int64(6), object(8)\n",
      "memory usage: 36.1+ KB\n",
      "None\n"
     ]
    }
   ],
   "source": [
    "world_cont = world.merge(continents, how = \"left\", left_on = \"Country/Other\", right_on = \"name\")\n",
    "print(world_cont.info())"
   ]
  },
  {
   "cell_type": "code",
   "execution_count": 7,
   "id": "ac88bc06",
   "metadata": {},
   "outputs": [
    {
     "name": "stdout",
     "output_type": "stream",
     "text": [
      "                Country/Other  Population (2020)\n",
      "21     Bosnia and Herzegovina            3280819\n",
      "24                     Brunei             437479\n",
      "34            Channel Islands             173863\n",
      "45   Czech Republic (Czechia)           10708981\n",
      "46              Côte d'Ivoire           26378274\n",
      "47                   DR Congo           89561403\n",
      "75              Guinea-Bissau            1968001\n",
      "117                Micronesia             548914\n",
      "132               North Korea           25778816\n",
      "133           North Macedonia            2083374\n",
      "152       Sao Tome & Principe             219159\n",
      "168  St. Vincent & Grenadines             110940\n",
      "169        State of Palestine            5101414\n",
      "186       U.S. Virgin Islands             104425\n"
     ]
    }
   ],
   "source": [
    "print(world_cont.loc[world_cont[\"region\"].isnull(), [\"Country/Other\",\"Population (2020)\"]])"
   ]
  },
  {
   "cell_type": "code",
   "execution_count": 118,
   "id": "484510a8",
   "metadata": {},
   "outputs": [
    {
     "name": "stdout",
     "output_type": "stream",
     "text": [
      "                     name\n",
      "0             Afghanistan\n",
      "11                Armenia\n",
      "15             Azerbaijan\n",
      "17                Bahrain\n",
      "18             Bangladesh\n",
      "25                 Bhutan\n",
      "33      Brunei Darussalam\n",
      "38               Cambodia\n",
      "45                  China\n",
      "58                 Cyprus\n",
      "82                Georgia\n",
      "100             Hong Kong\n",
      "103                 India\n",
      "104             Indonesia\n",
      "105                  Iran\n",
      "106                  Iraq\n",
      "109                Israel\n",
      "112                 Japan\n",
      "114                Jordan\n",
      "115            Kazakhstan\n",
      "118           South Korea\n",
      "119    Korea, Republic of\n",
      "120                Kuwait\n",
      "121            Kyrgyzstan\n",
      "122                  Laos\n",
      "124               Lebanon\n",
      "131                 Macao\n",
      "134              Malaysia\n",
      "135              Maldives\n",
      "147              Mongolia\n",
      "152               Myanmar\n",
      "155                 Nepal\n",
      "167                  Oman\n",
      "168              Pakistan\n",
      "170   Palestine, State of\n",
      "175           Philippines\n",
      "180                 Qatar\n",
      "195          Saudi Arabia\n",
      "200             Singapore\n",
      "210             Sri Lanka\n",
      "216                 Syria\n",
      "217                Taiwan\n",
      "218            Tajikistan\n",
      "220              Thailand\n",
      "221           Timor-Leste\n",
      "227                Turkey\n",
      "228          Turkmenistan\n",
      "233  United Arab Emirates\n",
      "238            Uzbekistan\n",
      "241               Vietnam\n",
      "246                 Yemen\n"
     ]
    }
   ],
   "source": [
    "print(continents.loc[continents[\"region\"] ==\"Asia\",[\"name\"]])"
   ]
  },
  {
   "cell_type": "code",
   "execution_count": 8,
   "id": "57d4df88",
   "metadata": {},
   "outputs": [
    {
     "name": "stdout",
     "output_type": "stream",
     "text": [
      "                       name\n",
      "1             Åland Islands\n",
      "2                   Albania\n",
      "5                   Andorra\n",
      "14                  Austria\n",
      "20                  Belarus\n",
      "21                  Belgium\n",
      "28   Bosnia And Herzegovina\n",
      "34                 Bulgaria\n",
      "55                  Croatia\n",
      "59           Czech Republic\n",
      "60                  Denmark\n",
      "69                  Estonia\n",
      "73            Faroe Islands\n",
      "75                  Finland\n",
      "76                   France\n",
      "83                  Germany\n",
      "85                Gibraltar\n",
      "86                   Greece\n",
      "92                 Guernsey\n",
      "98                 Holy See\n",
      "101                 Hungary\n",
      "102                 Iceland\n",
      "107                 Ireland\n",
      "108             Isle of Man\n",
      "110                   Italy\n",
      "113                  Jersey\n",
      "123                  Latvia\n",
      "128           Liechtenstein\n",
      "129               Lithuania\n",
      "130              Luxembourg\n",
      "137                   Malta\n",
      "145                 Moldova\n",
      "146                  Monaco\n",
      "148              Montenegro\n",
      "156             Netherlands\n",
      "164               Macedonia\n",
      "166                  Norway\n",
      "177                  Poland\n",
      "178                Portugal\n",
      "182                 Romania\n",
      "183                  Russia\n",
      "193              San Marino\n",
      "197                  Serbia\n",
      "202                Slovakia\n",
      "203                Slovenia\n",
      "209                   Spain\n",
      "213  Svalbard and Jan Mayen\n",
      "214                  Sweden\n",
      "215             Switzerland\n",
      "232                 Ukraine\n",
      "234          United Kingdom\n"
     ]
    }
   ],
   "source": [
    "print(continents.loc[continents[\"region\"] ==\"Europe\",[\"name\"]])"
   ]
  },
  {
   "cell_type": "code",
   "execution_count": 9,
   "id": "c1af1205",
   "metadata": {},
   "outputs": [
    {
     "name": "stdout",
     "output_type": "stream",
     "text": [
      "                                             name\n",
      "3                                         Algeria\n",
      "6                                          Angola\n",
      "23                                          Benin\n",
      "29                                       Botswana\n",
      "32                 British Indian Ocean Territory\n",
      "35                                   Burkina Faso\n",
      "36                                        Burundi\n",
      "37                                     Cabo Verde\n",
      "39                                       Cameroon\n",
      "42                       Central African Republic\n",
      "43                                           Chad\n",
      "49                                        Comoros\n",
      "50                                          Congo\n",
      "51             Congo (Democratic Republic Of The)\n",
      "54                                  Côte D'Ivoire\n",
      "61                                       Djibouti\n",
      "65                                          Egypt\n",
      "67                              Equatorial Guinea\n",
      "68                                        Eritrea\n",
      "70                                       Eswatini\n",
      "71                                       Ethiopia\n",
      "79                    French Southern Territories\n",
      "80                                          Gabon\n",
      "81                                         Gambia\n",
      "84                                          Ghana\n",
      "93                                         Guinea\n",
      "94                                  Guinea Bissau\n",
      "116                                         Kenya\n",
      "125                                       Lesotho\n",
      "126                                       Liberia\n",
      "127                                         Libya\n",
      "132                                    Madagascar\n",
      "133                                        Malawi\n",
      "136                                          Mali\n",
      "140                                    Mauritania\n",
      "141                                     Mauritius\n",
      "142                                       Mayotte\n",
      "150                                       Morocco\n",
      "151                                    Mozambique\n",
      "153                                       Namibia\n",
      "160                                         Niger\n",
      "161                                       Nigeria\n",
      "181                                       Réunion\n",
      "184                                        Rwanda\n",
      "186  Saint Helena, Ascension and Tristan da Cunha\n",
      "194                         Sao Tome and Principe\n",
      "196                                       Senegal\n",
      "198                                    Seychelles\n",
      "199                                  Sierra Leone\n",
      "205                                       Somalia\n",
      "206                                  South Africa\n",
      "208                                   South Sudan\n",
      "211                                         Sudan\n",
      "219                                      Tanzania\n",
      "222                                          Togo\n",
      "226                                       Tunisia\n",
      "231                                        Uganda\n",
      "245                                Western Sahara\n",
      "247                                        Zambia\n",
      "248                                      Zimbabwe\n"
     ]
    }
   ],
   "source": [
    "print(continents.loc[continents[\"region\"] ==\"Africa\",[\"name\"]])"
   ]
  },
  {
   "cell_type": "code",
   "execution_count": 10,
   "id": "bed25993",
   "metadata": {},
   "outputs": [
    {
     "name": "stdout",
     "output_type": "stream",
     "text": [
      "(249, 11)\n"
     ]
    }
   ],
   "source": [
    "continents_updated = continents\n",
    "continents_updated[\"name\"] = continents_updated[\"name\"].replace([\"Korea, Republic of\",\"Palestine, State of\",\"Czech Republic\", \"Congo (Democratic Republic Of The)\",\"Côte D'Ivoire\"],[\"North Korea\",\"State of Palestine\",\"Czech Republic (Czechia)\",\"DR Congo\",\"Côte d'Ivoire\"])\n",
    "print(continents_updated.shape)\n"
   ]
  },
  {
   "cell_type": "code",
   "execution_count": 12,
   "id": "d49ad604",
   "metadata": {},
   "outputs": [
    {
     "name": "stdout",
     "output_type": "stream",
     "text": [
      "<class 'pandas.core.frame.DataFrame'>\n",
      "Int64Index: 192 entries, 0 to 191\n",
      "Data columns (total 22 columns):\n",
      " #   Column                    Non-Null Count  Dtype  \n",
      "---  ------                    --------------  -----  \n",
      " 0   Country/Other             192 non-null    object \n",
      " 1   Population (2020)         192 non-null    int64  \n",
      " 2   Yearly Change             192 non-null    float64\n",
      " 3   Net Change                192 non-null    int64  \n",
      " 4   Density (P/Km²)           192 non-null    int64  \n",
      " 5   Land Area (Km²)           192 non-null    int64  \n",
      " 6   Migrants (net)            192 non-null    int64  \n",
      " 7   Fert. Rate                192 non-null    float64\n",
      " 8   Med. Age                  192 non-null    int64  \n",
      " 9   Urban Pop %               185 non-null    float64\n",
      " 10  World Share               192 non-null    float64\n",
      " 11  name                      192 non-null    object \n",
      " 12  alpha-2                   191 non-null    object \n",
      " 13  alpha-3                   192 non-null    object \n",
      " 14  country-code              192 non-null    int64  \n",
      " 15  iso_3166-2                192 non-null    object \n",
      " 16  region                    192 non-null    object \n",
      " 17  sub-region                192 non-null    object \n",
      " 18  intermediate-region       84 non-null     object \n",
      " 19  region-code               192 non-null    float64\n",
      " 20  sub-region-code           192 non-null    float64\n",
      " 21  intermediate-region-code  84 non-null     float64\n",
      "dtypes: float64(7), int64(7), object(8)\n",
      "memory usage: 34.5+ KB\n",
      "None\n"
     ]
    }
   ],
   "source": [
    "world_cont_upd = world.merge(continents_updated, left_on = \"Country/Other\", right_on = \"name\")\n",
    "print(world_cont_upd.info())"
   ]
  },
  {
   "cell_type": "code",
   "execution_count": 13,
   "id": "733bdee2",
   "metadata": {},
   "outputs": [
    {
     "name": "stdout",
     "output_type": "stream",
     "text": [
      "Urban Pop %    59.524324\n",
      "dtype: float64\n"
     ]
    }
   ],
   "source": [
    "print(world_cont_upd[[\"Urban Pop %\"]].mean())"
   ]
  },
  {
   "cell_type": "code",
   "execution_count": 14,
   "id": "220bbde0",
   "metadata": {},
   "outputs": [
    {
     "name": "stdout",
     "output_type": "stream",
     "text": [
      "Urban Pop %    59.524324\n",
      "dtype: float64\n"
     ]
    }
   ],
   "source": [
    "world_cont_upd.fillna(world_cont_upd.mean(), inplace =True)\n",
    "print(world_cont_upd[[\"Urban Pop %\"]].mean())"
   ]
  },
  {
   "cell_type": "code",
   "execution_count": 147,
   "id": "799ebc7a",
   "metadata": {},
   "outputs": [
    {
     "name": "stdout",
     "output_type": "stream",
     "text": [
      "<class 'pandas.core.frame.DataFrame'>\n",
      "Int64Index: 191 entries, 0 to 190\n",
      "Data columns (total 22 columns):\n",
      " #   Column                    Non-Null Count  Dtype  \n",
      "---  ------                    --------------  -----  \n",
      " 0   Country/Other             191 non-null    object \n",
      " 1   Population (2020)         191 non-null    int64  \n",
      " 2   Yearly Change             191 non-null    float64\n",
      " 3   Net Change                191 non-null    int64  \n",
      " 4   Density (P/Km²)           191 non-null    int64  \n",
      " 5   Land Area (Km²)           191 non-null    int64  \n",
      " 6   Migrants (net)            191 non-null    int64  \n",
      " 7   Fert. Rate                191 non-null    float64\n",
      " 8   Med. Age                  191 non-null    int64  \n",
      " 9   Urban Pop %               191 non-null    float64\n",
      " 10  World Share               191 non-null    float64\n",
      " 11  name                      191 non-null    object \n",
      " 12  alpha-2                   190 non-null    object \n",
      " 13  alpha-3                   191 non-null    object \n",
      " 14  country-code              191 non-null    int64  \n",
      " 15  iso_3166-2                191 non-null    object \n",
      " 16  region                    191 non-null    object \n",
      " 17  sub-region                191 non-null    object \n",
      " 18  intermediate-region       84 non-null     object \n",
      " 19  region-code               191 non-null    float64\n",
      " 20  sub-region-code           191 non-null    float64\n",
      " 21  intermediate-region-code  191 non-null    float64\n",
      "dtypes: float64(7), int64(7), object(8)\n",
      "memory usage: 34.3+ KB\n",
      "None\n"
     ]
    }
   ],
   "source": [
    "print(world_cont_upd.info())"
   ]
  },
  {
   "cell_type": "code",
   "execution_count": 15,
   "id": "40cd7dd5",
   "metadata": {},
   "outputs": [
    {
     "name": "stdout",
     "output_type": "stream",
     "text": [
      "['Country/Other', 'Population (2020)', 'Yearly Change', 'Net Change', 'Density (P/Km²)', 'Land Area (Km²)', 'Migrants (net)', 'Fert. Rate', 'Med. Age', 'Urban Pop %', 'World Share', 'name', 'alpha-2', 'alpha-3', 'country-code', 'iso_3166-2', 'region', 'sub-region', 'intermediate-region', 'region-code', 'sub-region-code', 'intermediate-region-code']\n"
     ]
    }
   ],
   "source": [
    "print(list(world_cont_upd.columns.values))"
   ]
  },
  {
   "cell_type": "code",
   "execution_count": 16,
   "id": "12bece14",
   "metadata": {},
   "outputs": [],
   "source": [
    "world_cont_upd = world_cont_upd[['Country/Other', 'Population (2020)', 'Yearly Change', 'Net Change', 'Density (P/Km²)', 'Land Area (Km²)', 'Migrants (net)', 'Fert. Rate', 'Med. Age', 'Urban Pop %', 'World Share', \"region\"]]"
   ]
  },
  {
   "cell_type": "code",
   "execution_count": 17,
   "id": "fc0913a1",
   "metadata": {},
   "outputs": [
    {
     "name": "stdout",
     "output_type": "stream",
     "text": [
      "(192, 12)\n"
     ]
    }
   ],
   "source": [
    "print(world_cont_upd.shape)"
   ]
  },
  {
   "cell_type": "code",
   "execution_count": 22,
   "id": "79929d28",
   "metadata": {},
   "outputs": [
    {
     "data": {
      "text/html": [
       "<div>\n",
       "<style scoped>\n",
       "    .dataframe tbody tr th:only-of-type {\n",
       "        vertical-align: middle;\n",
       "    }\n",
       "\n",
       "    .dataframe tbody tr th {\n",
       "        vertical-align: top;\n",
       "    }\n",
       "\n",
       "    .dataframe thead th {\n",
       "        text-align: right;\n",
       "    }\n",
       "</style>\n",
       "<table border=\"1\" class=\"dataframe\">\n",
       "  <thead>\n",
       "    <tr style=\"text-align: right;\">\n",
       "      <th></th>\n",
       "      <th>Population (2020)</th>\n",
       "      <th>Yearly Change</th>\n",
       "      <th>Net Change</th>\n",
       "      <th>Density (P/Km²)</th>\n",
       "      <th>Land Area (Km²)</th>\n",
       "      <th>Migrants (net)</th>\n",
       "      <th>Fert. Rate</th>\n",
       "      <th>Med. Age</th>\n",
       "      <th>Urban Pop %</th>\n",
       "      <th>World Share</th>\n",
       "      <th>region</th>\n",
       "    </tr>\n",
       "    <tr>\n",
       "      <th>Country/Other</th>\n",
       "      <th></th>\n",
       "      <th></th>\n",
       "      <th></th>\n",
       "      <th></th>\n",
       "      <th></th>\n",
       "      <th></th>\n",
       "      <th></th>\n",
       "      <th></th>\n",
       "      <th></th>\n",
       "      <th></th>\n",
       "      <th></th>\n",
       "    </tr>\n",
       "  </thead>\n",
       "  <tbody>\n",
       "    <tr>\n",
       "      <th>Afghanistan</th>\n",
       "      <td>38928346</td>\n",
       "      <td>2.33</td>\n",
       "      <td>886592</td>\n",
       "      <td>60</td>\n",
       "      <td>652860</td>\n",
       "      <td>-62920</td>\n",
       "      <td>4.6</td>\n",
       "      <td>18</td>\n",
       "      <td>25.0</td>\n",
       "      <td>0.50</td>\n",
       "      <td>Asia</td>\n",
       "    </tr>\n",
       "    <tr>\n",
       "      <th>Albania</th>\n",
       "      <td>2877797</td>\n",
       "      <td>-0.11</td>\n",
       "      <td>-3120</td>\n",
       "      <td>105</td>\n",
       "      <td>27400</td>\n",
       "      <td>-14000</td>\n",
       "      <td>1.6</td>\n",
       "      <td>36</td>\n",
       "      <td>63.0</td>\n",
       "      <td>0.04</td>\n",
       "      <td>Europe</td>\n",
       "    </tr>\n",
       "    <tr>\n",
       "      <th>Algeria</th>\n",
       "      <td>43851044</td>\n",
       "      <td>1.85</td>\n",
       "      <td>797990</td>\n",
       "      <td>18</td>\n",
       "      <td>2381740</td>\n",
       "      <td>-10000</td>\n",
       "      <td>3.1</td>\n",
       "      <td>29</td>\n",
       "      <td>73.0</td>\n",
       "      <td>0.56</td>\n",
       "      <td>Africa</td>\n",
       "    </tr>\n",
       "    <tr>\n",
       "      <th>Angola</th>\n",
       "      <td>32866272</td>\n",
       "      <td>3.27</td>\n",
       "      <td>1040977</td>\n",
       "      <td>26</td>\n",
       "      <td>1246700</td>\n",
       "      <td>6413</td>\n",
       "      <td>5.6</td>\n",
       "      <td>17</td>\n",
       "      <td>67.0</td>\n",
       "      <td>0.42</td>\n",
       "      <td>Africa</td>\n",
       "    </tr>\n",
       "    <tr>\n",
       "      <th>Antigua and Barbuda</th>\n",
       "      <td>97929</td>\n",
       "      <td>0.84</td>\n",
       "      <td>811</td>\n",
       "      <td>223</td>\n",
       "      <td>440</td>\n",
       "      <td>0</td>\n",
       "      <td>2.0</td>\n",
       "      <td>34</td>\n",
       "      <td>26.0</td>\n",
       "      <td>0.00</td>\n",
       "      <td>Americas</td>\n",
       "    </tr>\n",
       "    <tr>\n",
       "      <th>...</th>\n",
       "      <td>...</td>\n",
       "      <td>...</td>\n",
       "      <td>...</td>\n",
       "      <td>...</td>\n",
       "      <td>...</td>\n",
       "      <td>...</td>\n",
       "      <td>...</td>\n",
       "      <td>...</td>\n",
       "      <td>...</td>\n",
       "      <td>...</td>\n",
       "      <td>...</td>\n",
       "    </tr>\n",
       "    <tr>\n",
       "      <th>Vietnam</th>\n",
       "      <td>97338579</td>\n",
       "      <td>0.91</td>\n",
       "      <td>876473</td>\n",
       "      <td>314</td>\n",
       "      <td>310070</td>\n",
       "      <td>-80000</td>\n",
       "      <td>2.1</td>\n",
       "      <td>32</td>\n",
       "      <td>38.0</td>\n",
       "      <td>1.25</td>\n",
       "      <td>Asia</td>\n",
       "    </tr>\n",
       "    <tr>\n",
       "      <th>Western Sahara</th>\n",
       "      <td>597339</td>\n",
       "      <td>2.55</td>\n",
       "      <td>14876</td>\n",
       "      <td>2</td>\n",
       "      <td>266000</td>\n",
       "      <td>5582</td>\n",
       "      <td>2.4</td>\n",
       "      <td>28</td>\n",
       "      <td>87.0</td>\n",
       "      <td>0.01</td>\n",
       "      <td>Africa</td>\n",
       "    </tr>\n",
       "    <tr>\n",
       "      <th>Yemen</th>\n",
       "      <td>29825964</td>\n",
       "      <td>2.28</td>\n",
       "      <td>664042</td>\n",
       "      <td>56</td>\n",
       "      <td>527970</td>\n",
       "      <td>-30000</td>\n",
       "      <td>3.8</td>\n",
       "      <td>20</td>\n",
       "      <td>38.0</td>\n",
       "      <td>0.38</td>\n",
       "      <td>Asia</td>\n",
       "    </tr>\n",
       "    <tr>\n",
       "      <th>Zambia</th>\n",
       "      <td>18383955</td>\n",
       "      <td>2.93</td>\n",
       "      <td>522925</td>\n",
       "      <td>25</td>\n",
       "      <td>743390</td>\n",
       "      <td>-8000</td>\n",
       "      <td>4.7</td>\n",
       "      <td>18</td>\n",
       "      <td>45.0</td>\n",
       "      <td>0.24</td>\n",
       "      <td>Africa</td>\n",
       "    </tr>\n",
       "    <tr>\n",
       "      <th>Zimbabwe</th>\n",
       "      <td>14862924</td>\n",
       "      <td>1.48</td>\n",
       "      <td>217456</td>\n",
       "      <td>38</td>\n",
       "      <td>386850</td>\n",
       "      <td>-116858</td>\n",
       "      <td>3.6</td>\n",
       "      <td>19</td>\n",
       "      <td>38.0</td>\n",
       "      <td>0.19</td>\n",
       "      <td>Africa</td>\n",
       "    </tr>\n",
       "  </tbody>\n",
       "</table>\n",
       "<p>192 rows × 11 columns</p>\n",
       "</div>"
      ],
      "text/plain": [
       "                     Population (2020)  Yearly Change  Net Change  \\\n",
       "Country/Other                                                       \n",
       "Afghanistan                   38928346           2.33      886592   \n",
       "Albania                        2877797          -0.11       -3120   \n",
       "Algeria                       43851044           1.85      797990   \n",
       "Angola                        32866272           3.27     1040977   \n",
       "Antigua and Barbuda              97929           0.84         811   \n",
       "...                                ...            ...         ...   \n",
       "Vietnam                       97338579           0.91      876473   \n",
       "Western Sahara                  597339           2.55       14876   \n",
       "Yemen                         29825964           2.28      664042   \n",
       "Zambia                        18383955           2.93      522925   \n",
       "Zimbabwe                      14862924           1.48      217456   \n",
       "\n",
       "                     Density (P/Km²)  Land Area (Km²)  Migrants (net)  \\\n",
       "Country/Other                                                           \n",
       "Afghanistan                       60           652860          -62920   \n",
       "Albania                          105            27400          -14000   \n",
       "Algeria                           18          2381740          -10000   \n",
       "Angola                            26          1246700            6413   \n",
       "Antigua and Barbuda              223              440               0   \n",
       "...                              ...              ...             ...   \n",
       "Vietnam                          314           310070          -80000   \n",
       "Western Sahara                     2           266000            5582   \n",
       "Yemen                             56           527970          -30000   \n",
       "Zambia                            25           743390           -8000   \n",
       "Zimbabwe                          38           386850         -116858   \n",
       "\n",
       "                     Fert. Rate  Med. Age  Urban Pop %  World Share    region  \n",
       "Country/Other                                                                  \n",
       "Afghanistan                 4.6        18         25.0         0.50      Asia  \n",
       "Albania                     1.6        36         63.0         0.04    Europe  \n",
       "Algeria                     3.1        29         73.0         0.56    Africa  \n",
       "Angola                      5.6        17         67.0         0.42    Africa  \n",
       "Antigua and Barbuda         2.0        34         26.0         0.00  Americas  \n",
       "...                         ...       ...          ...          ...       ...  \n",
       "Vietnam                     2.1        32         38.0         1.25      Asia  \n",
       "Western Sahara              2.4        28         87.0         0.01    Africa  \n",
       "Yemen                       3.8        20         38.0         0.38      Asia  \n",
       "Zambia                      4.7        18         45.0         0.24    Africa  \n",
       "Zimbabwe                    3.6        19         38.0         0.19    Africa  \n",
       "\n",
       "[192 rows x 11 columns]"
      ]
     },
     "execution_count": 22,
     "metadata": {},
     "output_type": "execute_result"
    }
   ],
   "source": [
    "world_cont_upd.set_index(\"Country/Other\")"
   ]
  },
  {
   "cell_type": "code",
   "execution_count": null,
   "id": "65dbb757",
   "metadata": {},
   "outputs": [],
   "source": []
  }
 ],
 "metadata": {
  "kernelspec": {
   "display_name": "Python 3",
   "language": "python",
   "name": "python3"
  },
  "language_info": {
   "codemirror_mode": {
    "name": "ipython",
    "version": 3
   },
   "file_extension": ".py",
   "mimetype": "text/x-python",
   "name": "python",
   "nbconvert_exporter": "python",
   "pygments_lexer": "ipython3",
   "version": "3.8.8"
  }
 },
 "nbformat": 4,
 "nbformat_minor": 5
}
