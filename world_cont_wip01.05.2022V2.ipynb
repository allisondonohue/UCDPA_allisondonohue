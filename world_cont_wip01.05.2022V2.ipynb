{
 "cells": [
  {
   "cell_type": "code",
   "execution_count": 5,
   "id": "28a1fdbe",
   "metadata": {
    "scrolled": true
   },
   "outputs": [],
   "source": [
    "import pandas as pd\n",
    "import numpy as np\n",
    "import matplotlib.pyplot as plt\n",
    "import seaborn as sns\n",
    "continents = pd.read_csv(\"C:\\\\Users\\\\allis\\\\OneDrive\\\\Documents\\\\UCD\\\\UCDPA_allisondonohue\\\\continents2.csv\")\n",
    "world = pd.read_csv(\"C:\\\\Users\\\\allis\\\\OneDrive\\\\Documents\\\\UCD\\\\UCDPA_allisondonohue\\\\world_population.csv\")"
   ]
  },
  {
   "cell_type": "code",
   "execution_count": 11,
   "id": "d7b22536",
   "metadata": {},
   "outputs": [
    {
     "name": "stdout",
     "output_type": "stream",
     "text": [
      "(201, 11)\n",
      "<class 'pandas.core.frame.DataFrame'>\n",
      "RangeIndex: 201 entries, 0 to 200\n",
      "Data columns (total 11 columns):\n",
      " #   Column             Non-Null Count  Dtype  \n",
      "---  ------             --------------  -----  \n",
      " 0   Country/Other      201 non-null    object \n",
      " 1   Population (2020)  201 non-null    int64  \n",
      " 2   Yearly Change      201 non-null    float64\n",
      " 3   Net Change         201 non-null    int64  \n",
      " 4   Density (P/Km²)    201 non-null    int64  \n",
      " 5   Land Area (Km²)    201 non-null    int64  \n",
      " 6   Migrants (net)     201 non-null    int64  \n",
      " 7   Fert. Rate         201 non-null    float64\n",
      " 8   Med. Age           201 non-null    int64  \n",
      " 9   Urban Pop %        194 non-null    float64\n",
      " 10  World Share        201 non-null    float64\n",
      "dtypes: float64(4), int64(6), object(1)\n",
      "memory usage: 17.4+ KB\n",
      "None\n",
      "         Country/Other  Population (2020)  Yearly Change  Net Change  \\\n",
      "0          Afghanistan           38928346           2.33      886592   \n",
      "1              Albania            2877797          -0.11       -3120   \n",
      "2              Algeria           43851044           1.85      797990   \n",
      "3               Angola           32866272           3.27     1040977   \n",
      "4  Antigua and Barbuda              97929           0.84         811   \n",
      "\n",
      "   Density (P/Km²)  Land Area (Km²)  Migrants (net)  Fert. Rate  Med. Age  \\\n",
      "0               60           652860          -62920         4.6        18   \n",
      "1              105            27400          -14000         1.6        36   \n",
      "2               18          2381740          -10000         3.1        29   \n",
      "3               26          1246700            6413         5.6        17   \n",
      "4              223              440               0         2.0        34   \n",
      "\n",
      "   Urban Pop %  World Share  \n",
      "0         25.0         0.50  \n",
      "1         63.0         0.04  \n",
      "2         73.0         0.56  \n",
      "3         67.0         0.42  \n",
      "4         26.0         0.00  \n"
     ]
    }
   ],
   "source": [
    "print(world.shape)\n",
    "print(world.info())\n",
    "print(world.head())"
   ]
  },
  {
   "cell_type": "code",
   "execution_count": 12,
   "id": "cd4b1e94",
   "metadata": {},
   "outputs": [],
   "source": [
    "world_upd = world\n",
    "world_upd[\"urban_pop_actual\"] = world_upd[\"Population (2020)\"]*world_upd[\"Urban Pop %\"]/100"
   ]
  },
  {
   "cell_type": "code",
   "execution_count": 13,
   "id": "6c1dba50",
   "metadata": {},
   "outputs": [
    {
     "name": "stdout",
     "output_type": "stream",
     "text": [
      "         Country/Other  Population (2020)  Yearly Change  Net Change  \\\n",
      "0          Afghanistan           38928346           2.33      886592   \n",
      "1              Albania            2877797          -0.11       -3120   \n",
      "2              Algeria           43851044           1.85      797990   \n",
      "3               Angola           32866272           3.27     1040977   \n",
      "4  Antigua and Barbuda              97929           0.84         811   \n",
      "\n",
      "   Density (P/Km²)  Land Area (Km²)  Migrants (net)  Fert. Rate  Med. Age  \\\n",
      "0               60           652860          -62920         4.6        18   \n",
      "1              105            27400          -14000         1.6        36   \n",
      "2               18          2381740          -10000         3.1        29   \n",
      "3               26          1246700            6413         5.6        17   \n",
      "4              223              440               0         2.0        34   \n",
      "\n",
      "   Urban Pop %  World Share  urban_pop_actual  \n",
      "0         25.0         0.50        9732086.50  \n",
      "1         63.0         0.04        1813012.11  \n",
      "2         73.0         0.56       32011262.12  \n",
      "3         67.0         0.42       22020402.24  \n",
      "4         26.0         0.00          25461.54  \n"
     ]
    }
   ],
   "source": [
    "print(world_upd.head())"
   ]
  },
  {
   "cell_type": "code",
   "execution_count": 15,
   "id": "67c8c45b",
   "metadata": {
    "scrolled": false
   },
   "outputs": [
    {
     "name": "stdout",
     "output_type": "stream",
     "text": [
      "(249, 11)\n",
      "<class 'pandas.core.frame.DataFrame'>\n",
      "RangeIndex: 249 entries, 0 to 248\n",
      "Data columns (total 11 columns):\n",
      " #   Column                    Non-Null Count  Dtype  \n",
      "---  ------                    --------------  -----  \n",
      " 0   name                      249 non-null    object \n",
      " 1   alpha-2                   248 non-null    object \n",
      " 2   alpha-3                   249 non-null    object \n",
      " 3   country-code              249 non-null    int64  \n",
      " 4   iso_3166-2                249 non-null    object \n",
      " 5   region                    248 non-null    object \n",
      " 6   sub-region                248 non-null    object \n",
      " 7   intermediate-region       107 non-null    object \n",
      " 8   region-code               248 non-null    float64\n",
      " 9   sub-region-code           248 non-null    float64\n",
      " 10  intermediate-region-code  107 non-null    float64\n",
      "dtypes: float64(3), int64(1), object(7)\n",
      "memory usage: 21.5+ KB\n",
      "None\n",
      "             name alpha-2 alpha-3  country-code     iso_3166-2   region  \\\n",
      "0     Afghanistan      AF     AFG             4  ISO 3166-2:AF     Asia   \n",
      "1   Åland Islands      AX     ALA           248  ISO 3166-2:AX   Europe   \n",
      "2         Albania      AL     ALB             8  ISO 3166-2:AL   Europe   \n",
      "3         Algeria      DZ     DZA            12  ISO 3166-2:DZ   Africa   \n",
      "4  American Samoa      AS     ASM            16  ISO 3166-2:AS  Oceania   \n",
      "\n",
      "        sub-region intermediate-region  region-code  sub-region-code  \\\n",
      "0    Southern Asia                 NaN        142.0             34.0   \n",
      "1  Northern Europe                 NaN        150.0            154.0   \n",
      "2  Southern Europe                 NaN        150.0             39.0   \n",
      "3  Northern Africa                 NaN          2.0             15.0   \n",
      "4        Polynesia                 NaN          9.0             61.0   \n",
      "\n",
      "   intermediate-region-code  \n",
      "0                       NaN  \n",
      "1                       NaN  \n",
      "2                       NaN  \n",
      "3                       NaN  \n",
      "4                       NaN  \n"
     ]
    }
   ],
   "source": [
    "print(continents.shape)\n",
    "print(continents.info())\n",
    "print(continents.head())"
   ]
  },
  {
   "cell_type": "code",
   "execution_count": 16,
   "id": "1b518731",
   "metadata": {
    "scrolled": true
   },
   "outputs": [
    {
     "name": "stdout",
     "output_type": "stream",
     "text": [
      "<class 'pandas.core.frame.DataFrame'>\n",
      "Int64Index: 201 entries, 0 to 200\n",
      "Data columns (total 23 columns):\n",
      " #   Column                    Non-Null Count  Dtype  \n",
      "---  ------                    --------------  -----  \n",
      " 0   Country/Other             201 non-null    object \n",
      " 1   Population (2020)         201 non-null    int64  \n",
      " 2   Yearly Change             201 non-null    float64\n",
      " 3   Net Change                201 non-null    int64  \n",
      " 4   Density (P/Km²)           201 non-null    int64  \n",
      " 5   Land Area (Km²)           201 non-null    int64  \n",
      " 6   Migrants (net)            201 non-null    int64  \n",
      " 7   Fert. Rate                201 non-null    float64\n",
      " 8   Med. Age                  201 non-null    int64  \n",
      " 9   Urban Pop %               194 non-null    float64\n",
      " 10  World Share               201 non-null    float64\n",
      " 11  urban_pop_actual          194 non-null    float64\n",
      " 12  name                      187 non-null    object \n",
      " 13  alpha-2                   186 non-null    object \n",
      " 14  alpha-3                   187 non-null    object \n",
      " 15  country-code              187 non-null    float64\n",
      " 16  iso_3166-2                187 non-null    object \n",
      " 17  region                    187 non-null    object \n",
      " 18  sub-region                187 non-null    object \n",
      " 19  intermediate-region       82 non-null     object \n",
      " 20  region-code               187 non-null    float64\n",
      " 21  sub-region-code           187 non-null    float64\n",
      " 22  intermediate-region-code  82 non-null     float64\n",
      "dtypes: float64(9), int64(6), object(8)\n",
      "memory usage: 37.7+ KB\n",
      "None\n"
     ]
    }
   ],
   "source": [
    "world_cont = world_upd.merge(continents, how = \"left\", left_on = \"Country/Other\", right_on = \"name\")\n",
    "print(world_cont.info())"
   ]
  },
  {
   "cell_type": "markdown",
   "id": "bb1414a2",
   "metadata": {},
   "source": [
    "Find 14 countries with no \"Region\" in dataframe"
   ]
  },
  {
   "cell_type": "code",
   "execution_count": 17,
   "id": "ac88bc06",
   "metadata": {},
   "outputs": [
    {
     "name": "stdout",
     "output_type": "stream",
     "text": [
      "                Country/Other  Population (2020)\n",
      "21     Bosnia and Herzegovina            3280819\n",
      "24                     Brunei             437479\n",
      "34            Channel Islands             173863\n",
      "45   Czech Republic (Czechia)           10708981\n",
      "46              Côte d'Ivoire           26378274\n",
      "47                   DR Congo           89561403\n",
      "75              Guinea-Bissau            1968001\n",
      "117                Micronesia             548914\n",
      "132               North Korea           25778816\n",
      "133           North Macedonia            2083374\n",
      "152       Sao Tome & Principe             219159\n",
      "168  St. Vincent & Grenadines             110940\n",
      "169        State of Palestine            5101414\n",
      "186       U.S. Virgin Islands             104425\n"
     ]
    }
   ],
   "source": [
    "print(world_cont.loc[world_cont[\"region\"].isnull(), [\"Country/Other\",\"Population (2020)\"]])"
   ]
  },
  {
   "cell_type": "markdown",
   "id": "bad46dfe",
   "metadata": {},
   "source": [
    "Manual search for 5 highest populated countries with missing \"Region\" information."
   ]
  },
  {
   "cell_type": "code",
   "execution_count": 18,
   "id": "484510a8",
   "metadata": {},
   "outputs": [
    {
     "name": "stdout",
     "output_type": "stream",
     "text": [
      "                     name\n",
      "0             Afghanistan\n",
      "11                Armenia\n",
      "15             Azerbaijan\n",
      "17                Bahrain\n",
      "18             Bangladesh\n",
      "25                 Bhutan\n",
      "33      Brunei Darussalam\n",
      "38               Cambodia\n",
      "45                  China\n",
      "58                 Cyprus\n",
      "82                Georgia\n",
      "100             Hong Kong\n",
      "103                 India\n",
      "104             Indonesia\n",
      "105                  Iran\n",
      "106                  Iraq\n",
      "109                Israel\n",
      "112                 Japan\n",
      "114                Jordan\n",
      "115            Kazakhstan\n",
      "118           South Korea\n",
      "119    Korea, Republic of\n",
      "120                Kuwait\n",
      "121            Kyrgyzstan\n",
      "122                  Laos\n",
      "124               Lebanon\n",
      "131                 Macao\n",
      "134              Malaysia\n",
      "135              Maldives\n",
      "147              Mongolia\n",
      "152               Myanmar\n",
      "155                 Nepal\n",
      "167                  Oman\n",
      "168              Pakistan\n",
      "170   Palestine, State of\n",
      "175           Philippines\n",
      "180                 Qatar\n",
      "195          Saudi Arabia\n",
      "200             Singapore\n",
      "210             Sri Lanka\n",
      "216                 Syria\n",
      "217                Taiwan\n",
      "218            Tajikistan\n",
      "220              Thailand\n",
      "221           Timor-Leste\n",
      "227                Turkey\n",
      "228          Turkmenistan\n",
      "233  United Arab Emirates\n",
      "238            Uzbekistan\n",
      "241               Vietnam\n",
      "246                 Yemen\n"
     ]
    }
   ],
   "source": [
    "print(continents.loc[continents[\"region\"] ==\"Asia\",[\"name\"]])"
   ]
  },
  {
   "cell_type": "code",
   "execution_count": 19,
   "id": "57d4df88",
   "metadata": {},
   "outputs": [
    {
     "name": "stdout",
     "output_type": "stream",
     "text": [
      "                       name\n",
      "1             Åland Islands\n",
      "2                   Albania\n",
      "5                   Andorra\n",
      "14                  Austria\n",
      "20                  Belarus\n",
      "21                  Belgium\n",
      "28   Bosnia And Herzegovina\n",
      "34                 Bulgaria\n",
      "55                  Croatia\n",
      "59           Czech Republic\n",
      "60                  Denmark\n",
      "69                  Estonia\n",
      "73            Faroe Islands\n",
      "75                  Finland\n",
      "76                   France\n",
      "83                  Germany\n",
      "85                Gibraltar\n",
      "86                   Greece\n",
      "92                 Guernsey\n",
      "98                 Holy See\n",
      "101                 Hungary\n",
      "102                 Iceland\n",
      "107                 Ireland\n",
      "108             Isle of Man\n",
      "110                   Italy\n",
      "113                  Jersey\n",
      "123                  Latvia\n",
      "128           Liechtenstein\n",
      "129               Lithuania\n",
      "130              Luxembourg\n",
      "137                   Malta\n",
      "145                 Moldova\n",
      "146                  Monaco\n",
      "148              Montenegro\n",
      "156             Netherlands\n",
      "164               Macedonia\n",
      "166                  Norway\n",
      "177                  Poland\n",
      "178                Portugal\n",
      "182                 Romania\n",
      "183                  Russia\n",
      "193              San Marino\n",
      "197                  Serbia\n",
      "202                Slovakia\n",
      "203                Slovenia\n",
      "209                   Spain\n",
      "213  Svalbard and Jan Mayen\n",
      "214                  Sweden\n",
      "215             Switzerland\n",
      "232                 Ukraine\n",
      "234          United Kingdom\n"
     ]
    }
   ],
   "source": [
    "print(continents.loc[continents[\"region\"] ==\"Europe\",[\"name\"]])"
   ]
  },
  {
   "cell_type": "code",
   "execution_count": 13,
   "id": "c1af1205",
   "metadata": {},
   "outputs": [
    {
     "name": "stdout",
     "output_type": "stream",
     "text": [
      "                                             name\n",
      "3                                         Algeria\n",
      "6                                          Angola\n",
      "23                                          Benin\n",
      "29                                       Botswana\n",
      "32                 British Indian Ocean Territory\n",
      "35                                   Burkina Faso\n",
      "36                                        Burundi\n",
      "37                                     Cabo Verde\n",
      "39                                       Cameroon\n",
      "42                       Central African Republic\n",
      "43                                           Chad\n",
      "49                                        Comoros\n",
      "50                                          Congo\n",
      "51             Congo (Democratic Republic Of The)\n",
      "54                                  Côte D'Ivoire\n",
      "61                                       Djibouti\n",
      "65                                          Egypt\n",
      "67                              Equatorial Guinea\n",
      "68                                        Eritrea\n",
      "70                                       Eswatini\n",
      "71                                       Ethiopia\n",
      "79                    French Southern Territories\n",
      "80                                          Gabon\n",
      "81                                         Gambia\n",
      "84                                          Ghana\n",
      "93                                         Guinea\n",
      "94                                  Guinea Bissau\n",
      "116                                         Kenya\n",
      "125                                       Lesotho\n",
      "126                                       Liberia\n",
      "127                                         Libya\n",
      "132                                    Madagascar\n",
      "133                                        Malawi\n",
      "136                                          Mali\n",
      "140                                    Mauritania\n",
      "141                                     Mauritius\n",
      "142                                       Mayotte\n",
      "150                                       Morocco\n",
      "151                                    Mozambique\n",
      "153                                       Namibia\n",
      "160                                         Niger\n",
      "161                                       Nigeria\n",
      "181                                       Réunion\n",
      "184                                        Rwanda\n",
      "186  Saint Helena, Ascension and Tristan da Cunha\n",
      "194                         Sao Tome and Principe\n",
      "196                                       Senegal\n",
      "198                                    Seychelles\n",
      "199                                  Sierra Leone\n",
      "205                                       Somalia\n",
      "206                                  South Africa\n",
      "208                                   South Sudan\n",
      "211                                         Sudan\n",
      "219                                      Tanzania\n",
      "222                                          Togo\n",
      "226                                       Tunisia\n",
      "231                                        Uganda\n",
      "245                                Western Sahara\n",
      "247                                        Zambia\n",
      "248                                      Zimbabwe\n"
     ]
    }
   ],
   "source": [
    "print(continents.loc[continents[\"region\"] ==\"Africa\",[\"name\"]])"
   ]
  },
  {
   "cell_type": "markdown",
   "id": "cd383c77",
   "metadata": {},
   "source": [
    "Update naming convention for 5 highest populated countries with missing \"Region\" information."
   ]
  },
  {
   "cell_type": "code",
   "execution_count": 20,
   "id": "bed25993",
   "metadata": {
    "scrolled": true
   },
   "outputs": [
    {
     "name": "stdout",
     "output_type": "stream",
     "text": [
      "(249, 11)\n"
     ]
    }
   ],
   "source": [
    "continents_updated = continents\n",
    "continents_updated[\"name\"] = continents_updated[\"name\"].replace([\"Korea, Republic of\",\"Palestine, State of\",\"Czech Republic\", \"Congo (Democratic Republic Of The)\",\"Côte D'Ivoire\"],[\"North Korea\",\"State of Palestine\",\"Czech Republic (Czechia)\",\"DR Congo\",\"Côte d'Ivoire\"])\n",
    "print(continents_updated.shape)"
   ]
  },
  {
   "cell_type": "markdown",
   "id": "1cdf7d3b",
   "metadata": {},
   "source": [
    "Merge updated continent df with world df for only countries with region information"
   ]
  },
  {
   "cell_type": "code",
   "execution_count": 21,
   "id": "d49ad604",
   "metadata": {
    "scrolled": true
   },
   "outputs": [
    {
     "name": "stdout",
     "output_type": "stream",
     "text": [
      "<class 'pandas.core.frame.DataFrame'>\n",
      "Int64Index: 192 entries, 0 to 191\n",
      "Data columns (total 23 columns):\n",
      " #   Column                    Non-Null Count  Dtype  \n",
      "---  ------                    --------------  -----  \n",
      " 0   Country/Other             192 non-null    object \n",
      " 1   Population (2020)         192 non-null    int64  \n",
      " 2   Yearly Change             192 non-null    float64\n",
      " 3   Net Change                192 non-null    int64  \n",
      " 4   Density (P/Km²)           192 non-null    int64  \n",
      " 5   Land Area (Km²)           192 non-null    int64  \n",
      " 6   Migrants (net)            192 non-null    int64  \n",
      " 7   Fert. Rate                192 non-null    float64\n",
      " 8   Med. Age                  192 non-null    int64  \n",
      " 9   Urban Pop %               185 non-null    float64\n",
      " 10  World Share               192 non-null    float64\n",
      " 11  urban_pop_actual          185 non-null    float64\n",
      " 12  name                      192 non-null    object \n",
      " 13  alpha-2                   191 non-null    object \n",
      " 14  alpha-3                   192 non-null    object \n",
      " 15  country-code              192 non-null    int64  \n",
      " 16  iso_3166-2                192 non-null    object \n",
      " 17  region                    192 non-null    object \n",
      " 18  sub-region                192 non-null    object \n",
      " 19  intermediate-region       84 non-null     object \n",
      " 20  region-code               192 non-null    float64\n",
      " 21  sub-region-code           192 non-null    float64\n",
      " 22  intermediate-region-code  84 non-null     float64\n",
      "dtypes: float64(8), int64(7), object(8)\n",
      "memory usage: 36.0+ KB\n",
      "None\n"
     ]
    }
   ],
   "source": [
    "world_cont_upd = world_upd.merge(continents_updated, left_on = \"Country/Other\", right_on = \"name\")\n",
    "print(world_cont_upd.info())"
   ]
  },
  {
   "cell_type": "code",
   "execution_count": 16,
   "id": "b6a41955",
   "metadata": {},
   "outputs": [
    {
     "name": "stdout",
     "output_type": "stream",
     "text": [
      "       Population (2020)  Yearly Change    Net Change  Density (P/Km²)  \\\n",
      "count       1.920000e+02     192.000000  1.920000e+02       192.000000   \n",
      "mean        4.054777e+07       1.221042  4.233696e+05       364.036458   \n",
      "std         1.485743e+08       1.094193  1.235610e+06      1748.892836   \n",
      "min         9.792900e+04      -2.470000 -3.838400e+05         2.000000   \n",
      "25%         2.320154e+06       0.437500  5.917000e+03        31.750000   \n",
      "50%         9.227860e+06       1.110000  6.337250e+04        88.000000   \n",
      "75%         2.930910e+07       2.020000  3.770592e+05       223.500000   \n",
      "max         1.439324e+09       3.840000  1.358663e+07     21645.000000   \n",
      "\n",
      "       Land Area (Km²)  Migrants (net)  Fert. Rate    Med. Age  Urban Pop %  \\\n",
      "count     1.920000e+02      192.000000  192.000000  192.000000   185.000000   \n",
      "mean      6.747445e+05      139.723958    2.704687   30.505208    59.524324   \n",
      "std       1.846204e+06   126153.319130    1.267239    9.098068    22.377218   \n",
      "min       3.000000e+01  -653249.000000    1.100000   15.000000    13.000000   \n",
      "25%       2.542750e+04   -10755.250000    1.775000   22.000000    43.000000   \n",
      "50%       1.246550e+05     -906.000000    2.300000   30.000000    60.000000   \n",
      "75%       5.328668e+05    10055.000000    3.600000   38.250000    79.000000   \n",
      "max       1.637687e+07   954806.000000    7.000000   48.000000   100.000000   \n",
      "\n",
      "       World Share  urban_pop_actual  country-code  region-code  \\\n",
      "count   192.000000      1.850000e+02    192.000000   192.000000   \n",
      "mean      0.520156      2.337753e+07    425.671875    70.781250   \n",
      "std       1.906095      7.898452e+07    248.649781    68.403362   \n",
      "min       0.000000      2.536680e+04      4.000000     2.000000   \n",
      "25%       0.030000      1.425834e+06    217.000000     2.000000   \n",
      "50%       0.120000      5.097138e+06    417.500000    19.000000   \n",
      "75%       0.372500      1.576408e+07    635.000000   142.000000   \n",
      "max      18.470000      8.779875e+08    894.000000   150.000000   \n",
      "\n",
      "       sub-region-code  intermediate-region-code  \n",
      "count       192.000000                 84.000000  \n",
      "mean        178.885417                 15.178571  \n",
      "std         132.123405                  7.449688  \n",
      "min          15.000000                  5.000000  \n",
      "25%          53.750000                 11.000000  \n",
      "50%         154.000000                 14.000000  \n",
      "75%         202.000000                 17.000000  \n",
      "max         419.000000                 29.000000  \n"
     ]
    }
   ],
   "source": [
    "print(world_cont_upd.describe())"
   ]
  },
  {
   "cell_type": "markdown",
   "id": "3807e95a",
   "metadata": {},
   "source": [
    "Above shows missing \"Urban Pop %\" & \"urban_pop_actual\" information for 7 countries. This information is not available from other areas of the df and a backfill or forward fill would not be appropriate. Missing information will be filled using the mean of the \"urban_pop_actual\" to maintain the overall mean of the dataframe.\n"
   ]
  },
  {
   "cell_type": "code",
   "execution_count": 22,
   "id": "733bdee2",
   "metadata": {},
   "outputs": [
    {
     "name": "stdout",
     "output_type": "stream",
     "text": [
      "urban_pop_actual    2.337753e+07\n",
      "dtype: float64\n"
     ]
    }
   ],
   "source": [
    "print(world_cont_upd[[\"urban_pop_actual\"]].mean())"
   ]
  },
  {
   "cell_type": "code",
   "execution_count": 23,
   "id": "220bbde0",
   "metadata": {},
   "outputs": [
    {
     "name": "stdout",
     "output_type": "stream",
     "text": [
      "urban_pop_actual    2.337753e+07\n",
      "dtype: float64\n"
     ]
    }
   ],
   "source": [
    "world_cont_upd.fillna(world_cont_upd.mean(), inplace =True)\n",
    "print(world_cont_upd[[\"urban_pop_actual\"]].mean())"
   ]
  },
  {
   "cell_type": "code",
   "execution_count": 19,
   "id": "799ebc7a",
   "metadata": {},
   "outputs": [
    {
     "name": "stdout",
     "output_type": "stream",
     "text": [
      "<class 'pandas.core.frame.DataFrame'>\n",
      "Int64Index: 192 entries, 0 to 191\n",
      "Data columns (total 23 columns):\n",
      " #   Column                    Non-Null Count  Dtype  \n",
      "---  ------                    --------------  -----  \n",
      " 0   Country/Other             192 non-null    object \n",
      " 1   Population (2020)         192 non-null    int64  \n",
      " 2   Yearly Change             192 non-null    float64\n",
      " 3   Net Change                192 non-null    int64  \n",
      " 4   Density (P/Km²)           192 non-null    int64  \n",
      " 5   Land Area (Km²)           192 non-null    int64  \n",
      " 6   Migrants (net)            192 non-null    int64  \n",
      " 7   Fert. Rate                192 non-null    float64\n",
      " 8   Med. Age                  192 non-null    int64  \n",
      " 9   Urban Pop %               192 non-null    float64\n",
      " 10  World Share               192 non-null    float64\n",
      " 11  urban_pop_actual          192 non-null    float64\n",
      " 12  name                      192 non-null    object \n",
      " 13  alpha-2                   191 non-null    object \n",
      " 14  alpha-3                   192 non-null    object \n",
      " 15  country-code              192 non-null    int64  \n",
      " 16  iso_3166-2                192 non-null    object \n",
      " 17  region                    192 non-null    object \n",
      " 18  sub-region                192 non-null    object \n",
      " 19  intermediate-region       84 non-null     object \n",
      " 20  region-code               192 non-null    float64\n",
      " 21  sub-region-code           192 non-null    float64\n",
      " 22  intermediate-region-code  192 non-null    float64\n",
      "dtypes: float64(8), int64(7), object(8)\n",
      "memory usage: 36.0+ KB\n",
      "None\n"
     ]
    }
   ],
   "source": [
    "print(world_cont_upd.info())"
   ]
  },
  {
   "cell_type": "code",
   "execution_count": 24,
   "id": "40cd7dd5",
   "metadata": {},
   "outputs": [
    {
     "name": "stdout",
     "output_type": "stream",
     "text": [
      "['Country/Other', 'Population (2020)', 'Yearly Change', 'Net Change', 'Density (P/Km²)', 'Land Area (Km²)', 'Migrants (net)', 'Fert. Rate', 'Med. Age', 'Urban Pop %', 'World Share', 'urban_pop_actual', 'name', 'alpha-2', 'alpha-3', 'country-code', 'iso_3166-2', 'region', 'sub-region', 'intermediate-region', 'region-code', 'sub-region-code', 'intermediate-region-code']\n"
     ]
    }
   ],
   "source": [
    "print(list(world_cont_upd.columns.values))"
   ]
  },
  {
   "cell_type": "code",
   "execution_count": 25,
   "id": "fc0913a1",
   "metadata": {},
   "outputs": [
    {
     "name": "stdout",
     "output_type": "stream",
     "text": [
      "(192, 23)\n"
     ]
    }
   ],
   "source": [
    "print(world_cont_upd.shape)"
   ]
  },
  {
   "cell_type": "markdown",
   "id": "699a4700",
   "metadata": {},
   "source": [
    "Drop columns not required  "
   ]
  },
  {
   "cell_type": "code",
   "execution_count": 26,
   "id": "2b2b5ab2",
   "metadata": {},
   "outputs": [
    {
     "name": "stdout",
     "output_type": "stream",
     "text": [
      "(192, 13)\n"
     ]
    }
   ],
   "source": [
    "world_cont_upd_1=world_cont_upd.drop(['name', 'alpha-2', 'alpha-3', 'country-code', 'iso_3166-2', 'sub-region', 'intermediate-region', 'region-code', 'sub-region-code', 'intermediate-region-code'], axis =1)\n",
    "print(world_cont_upd_1.shape)"
   ]
  },
  {
   "cell_type": "markdown",
   "id": "cb275ac4",
   "metadata": {},
   "source": [
    "Create a dataframe with Index from world_cont_upd_1"
   ]
  },
  {
   "cell_type": "code",
   "execution_count": 27,
   "id": "e5b5df1e",
   "metadata": {},
   "outputs": [],
   "source": [
    "world_cont_upd_2 =world_cont_upd_1.set_index(\"Country/Other\")"
   ]
  },
  {
   "cell_type": "code",
   "execution_count": 28,
   "id": "2cc0de69",
   "metadata": {},
   "outputs": [
    {
     "name": "stdout",
     "output_type": "stream",
     "text": [
      "['Country/Other', 'Population (2020)', 'Yearly Change', 'Net Change', 'Density (P/Km²)', 'Land Area (Km²)', 'Migrants (net)', 'Fert. Rate', 'Med. Age', 'Urban Pop %', 'World Share', 'urban_pop_actual', 'region']\n"
     ]
    }
   ],
   "source": [
    "print(list(world_cont_upd_1.columns.values))"
   ]
  },
  {
   "cell_type": "code",
   "execution_count": 29,
   "id": "d3ef48a0",
   "metadata": {},
   "outputs": [
    {
     "name": "stdout",
     "output_type": "stream",
     "text": [
      "['Population (2020)', 'Yearly Change', 'Net Change', 'Density (P/Km²)', 'Land Area (Km²)', 'Migrants (net)', 'Fert. Rate', 'Med. Age', 'Urban Pop %', 'World Share', 'urban_pop_actual', 'region']\n"
     ]
    }
   ],
   "source": [
    "print(list(world_cont_upd_2.columns.values))"
   ]
  },
  {
   "cell_type": "markdown",
   "id": "f31bfe45",
   "metadata": {},
   "source": [
    "Look at the Countries with the Highest & Lowest Values"
   ]
  },
  {
   "cell_type": "code",
   "execution_count": 30,
   "id": "46a450ec",
   "metadata": {},
   "outputs": [
    {
     "name": "stdout",
     "output_type": "stream",
     "text": [
      "China\n"
     ]
    }
   ],
   "source": [
    "print(world_cont_upd_2[\"Population (2020)\"].idxmax())"
   ]
  },
  {
   "cell_type": "markdown",
   "id": "ae58935c",
   "metadata": {},
   "source": [
    "Above only gives the Country Name in the result. Below shows all the information for China for not clearly."
   ]
  },
  {
   "cell_type": "code",
   "execution_count": 31,
   "id": "ef3a8276",
   "metadata": {},
   "outputs": [
    {
     "name": "stdout",
     "output_type": "stream",
     "text": [
      "Population (2020)      1439323776\n",
      "Yearly Change                0.39\n",
      "Net Change                5540090\n",
      "Density (P/Km²)               153\n",
      "Land Area (Km²)           9388211\n",
      "Migrants (net)            -348399\n",
      "Fert. Rate                    1.7\n",
      "Med. Age                       38\n",
      "Urban Pop %                  61.0\n",
      "World Share                 18.47\n",
      "urban_pop_actual     877987503.36\n",
      "region                       Asia\n",
      "Name: China, dtype: object\n"
     ]
    }
   ],
   "source": [
    "print(world_cont_upd_2.loc[world_cont_upd_2[\"Population (2020)\"].idxmax()])"
   ]
  },
  {
   "cell_type": "markdown",
   "id": "27a5526c",
   "metadata": {},
   "source": [
    "This would be slow to replicate for each column heading but a definition would be quicker to get the highest and lowest values in the dataframe. Initial outputs from a definition of high and low combined were untidy. \n",
    "The pd.Dataframe command below (from the internet) creates a new dataframe of the results from the merged table based on the index of the highest or lowest value in the selected column which are printed using the return pd.concat command.\n"
   ]
  },
  {
   "cell_type": "code",
   "execution_count": 32,
   "id": "e262d4ed",
   "metadata": {},
   "outputs": [
    {
     "name": "stdout",
     "output_type": "stream",
     "text": [
      "China has the highest Population (2020)\n",
      "Antigua and Barbuda has the lowest Population (2020)\n"
     ]
    },
    {
     "data": {
      "text/html": [
       "<div>\n",
       "<style scoped>\n",
       "    .dataframe tbody tr th:only-of-type {\n",
       "        vertical-align: middle;\n",
       "    }\n",
       "\n",
       "    .dataframe tbody tr th {\n",
       "        vertical-align: top;\n",
       "    }\n",
       "\n",
       "    .dataframe thead th {\n",
       "        text-align: right;\n",
       "    }\n",
       "</style>\n",
       "<table border=\"1\" class=\"dataframe\">\n",
       "  <thead>\n",
       "    <tr style=\"text-align: right;\">\n",
       "      <th></th>\n",
       "      <th>China</th>\n",
       "      <th>Antigua and Barbuda</th>\n",
       "    </tr>\n",
       "  </thead>\n",
       "  <tbody>\n",
       "    <tr>\n",
       "      <th>Population (2020)</th>\n",
       "      <td>1439323776</td>\n",
       "      <td>97929</td>\n",
       "    </tr>\n",
       "    <tr>\n",
       "      <th>Yearly Change</th>\n",
       "      <td>0.39</td>\n",
       "      <td>0.84</td>\n",
       "    </tr>\n",
       "    <tr>\n",
       "      <th>Net Change</th>\n",
       "      <td>5540090</td>\n",
       "      <td>811</td>\n",
       "    </tr>\n",
       "    <tr>\n",
       "      <th>Density (P/Km²)</th>\n",
       "      <td>153</td>\n",
       "      <td>223</td>\n",
       "    </tr>\n",
       "    <tr>\n",
       "      <th>Land Area (Km²)</th>\n",
       "      <td>9388211</td>\n",
       "      <td>440</td>\n",
       "    </tr>\n",
       "    <tr>\n",
       "      <th>Migrants (net)</th>\n",
       "      <td>-348399</td>\n",
       "      <td>0</td>\n",
       "    </tr>\n",
       "    <tr>\n",
       "      <th>Fert. Rate</th>\n",
       "      <td>1.7</td>\n",
       "      <td>2.0</td>\n",
       "    </tr>\n",
       "    <tr>\n",
       "      <th>Med. Age</th>\n",
       "      <td>38</td>\n",
       "      <td>34</td>\n",
       "    </tr>\n",
       "    <tr>\n",
       "      <th>Urban Pop %</th>\n",
       "      <td>61.0</td>\n",
       "      <td>26.0</td>\n",
       "    </tr>\n",
       "    <tr>\n",
       "      <th>World Share</th>\n",
       "      <td>18.47</td>\n",
       "      <td>0.0</td>\n",
       "    </tr>\n",
       "    <tr>\n",
       "      <th>urban_pop_actual</th>\n",
       "      <td>877987503.36</td>\n",
       "      <td>25461.54</td>\n",
       "    </tr>\n",
       "    <tr>\n",
       "      <th>region</th>\n",
       "      <td>Asia</td>\n",
       "      <td>Americas</td>\n",
       "    </tr>\n",
       "  </tbody>\n",
       "</table>\n",
       "</div>"
      ],
      "text/plain": [
       "                          China Antigua and Barbuda\n",
       "Population (2020)    1439323776               97929\n",
       "Yearly Change              0.39                0.84\n",
       "Net Change              5540090                 811\n",
       "Density (P/Km²)             153                 223\n",
       "Land Area (Km²)         9388211                 440\n",
       "Migrants (net)          -348399                   0\n",
       "Fert. Rate                  1.7                 2.0\n",
       "Med. Age                     38                  34\n",
       "Urban Pop %                61.0                26.0\n",
       "World Share               18.47                 0.0\n",
       "urban_pop_actual   877987503.36            25461.54\n",
       "region                     Asia            Americas"
      ]
     },
     "execution_count": 32,
     "metadata": {},
     "output_type": "execute_result"
    }
   ],
   "source": [
    "def highlow(x):\n",
    "    highest_ind = world_cont_upd_2[x].idxmax()\n",
    "    lowest_ind = world_cont_upd_2[x].idxmin()\n",
    "    high = pd.DataFrame(world_cont_upd_2.loc[highest_ind,:])\n",
    "    low = pd.DataFrame(world_cont_upd_2.loc[lowest_ind,:])\n",
    "    print(world_cont_upd_2[x].idxmax() +\" has the highest \" + x)\n",
    "    print(world_cont_upd_2[x].idxmin() +\" has the lowest \" + x)\n",
    "    return pd.concat([high,low], axis =1)\n",
    "\n",
    "highlow(\"Population (2020)\")"
   ]
  },
  {
   "cell_type": "code",
   "execution_count": 33,
   "id": "d163ea95",
   "metadata": {},
   "outputs": [
    {
     "name": "stdout",
     "output_type": "stream",
     "text": [
      "Macao has the highest Density (P/Km²)\n",
      "Mongolia has the lowest Density (P/Km²)\n"
     ]
    },
    {
     "data": {
      "text/html": [
       "<div>\n",
       "<style scoped>\n",
       "    .dataframe tbody tr th:only-of-type {\n",
       "        vertical-align: middle;\n",
       "    }\n",
       "\n",
       "    .dataframe tbody tr th {\n",
       "        vertical-align: top;\n",
       "    }\n",
       "\n",
       "    .dataframe thead th {\n",
       "        text-align: right;\n",
       "    }\n",
       "</style>\n",
       "<table border=\"1\" class=\"dataframe\">\n",
       "  <thead>\n",
       "    <tr style=\"text-align: right;\">\n",
       "      <th></th>\n",
       "      <th>Macao</th>\n",
       "      <th>Mongolia</th>\n",
       "    </tr>\n",
       "  </thead>\n",
       "  <tbody>\n",
       "    <tr>\n",
       "      <th>Population (2020)</th>\n",
       "      <td>649335</td>\n",
       "      <td>3278290</td>\n",
       "    </tr>\n",
       "    <tr>\n",
       "      <th>Yearly Change</th>\n",
       "      <td>1.39</td>\n",
       "      <td>1.65</td>\n",
       "    </tr>\n",
       "    <tr>\n",
       "      <th>Net Change</th>\n",
       "      <td>8890</td>\n",
       "      <td>53123</td>\n",
       "    </tr>\n",
       "    <tr>\n",
       "      <th>Density (P/Km²)</th>\n",
       "      <td>21645</td>\n",
       "      <td>2</td>\n",
       "    </tr>\n",
       "    <tr>\n",
       "      <th>Land Area (Km²)</th>\n",
       "      <td>30</td>\n",
       "      <td>1553560</td>\n",
       "    </tr>\n",
       "    <tr>\n",
       "      <th>Migrants (net)</th>\n",
       "      <td>5000</td>\n",
       "      <td>-852</td>\n",
       "    </tr>\n",
       "    <tr>\n",
       "      <th>Fert. Rate</th>\n",
       "      <td>1.2</td>\n",
       "      <td>2.9</td>\n",
       "    </tr>\n",
       "    <tr>\n",
       "      <th>Med. Age</th>\n",
       "      <td>39</td>\n",
       "      <td>28</td>\n",
       "    </tr>\n",
       "    <tr>\n",
       "      <th>Urban Pop %</th>\n",
       "      <td>59.524324</td>\n",
       "      <td>67.0</td>\n",
       "    </tr>\n",
       "    <tr>\n",
       "      <th>World Share</th>\n",
       "      <td>0.01</td>\n",
       "      <td>0.04</td>\n",
       "    </tr>\n",
       "    <tr>\n",
       "      <th>urban_pop_actual</th>\n",
       "      <td>23377527.271514</td>\n",
       "      <td>2196454.3</td>\n",
       "    </tr>\n",
       "    <tr>\n",
       "      <th>region</th>\n",
       "      <td>Asia</td>\n",
       "      <td>Asia</td>\n",
       "    </tr>\n",
       "  </tbody>\n",
       "</table>\n",
       "</div>"
      ],
      "text/plain": [
       "                             Macao   Mongolia\n",
       "Population (2020)           649335    3278290\n",
       "Yearly Change                 1.39       1.65\n",
       "Net Change                    8890      53123\n",
       "Density (P/Km²)              21645          2\n",
       "Land Area (Km²)                 30    1553560\n",
       "Migrants (net)                5000       -852\n",
       "Fert. Rate                     1.2        2.9\n",
       "Med. Age                        39         28\n",
       "Urban Pop %              59.524324       67.0\n",
       "World Share                   0.01       0.04\n",
       "urban_pop_actual   23377527.271514  2196454.3\n",
       "region                        Asia       Asia"
      ]
     },
     "execution_count": 33,
     "metadata": {},
     "output_type": "execute_result"
    }
   ],
   "source": [
    "highlow(\"Density (P/Km²)\")"
   ]
  },
  {
   "cell_type": "code",
   "execution_count": 34,
   "id": "5c88053b",
   "metadata": {},
   "outputs": [
    {
     "name": "stdout",
     "output_type": "stream",
     "text": [
      "Réunion has the highest Urban Pop %\n",
      "Papua New Guinea has the lowest Urban Pop %\n"
     ]
    },
    {
     "data": {
      "text/html": [
       "<div>\n",
       "<style scoped>\n",
       "    .dataframe tbody tr th:only-of-type {\n",
       "        vertical-align: middle;\n",
       "    }\n",
       "\n",
       "    .dataframe tbody tr th {\n",
       "        vertical-align: top;\n",
       "    }\n",
       "\n",
       "    .dataframe thead th {\n",
       "        text-align: right;\n",
       "    }\n",
       "</style>\n",
       "<table border=\"1\" class=\"dataframe\">\n",
       "  <thead>\n",
       "    <tr style=\"text-align: right;\">\n",
       "      <th></th>\n",
       "      <th>Réunion</th>\n",
       "      <th>Papua New Guinea</th>\n",
       "    </tr>\n",
       "  </thead>\n",
       "  <tbody>\n",
       "    <tr>\n",
       "      <th>Population (2020)</th>\n",
       "      <td>895312</td>\n",
       "      <td>8947024</td>\n",
       "    </tr>\n",
       "    <tr>\n",
       "      <th>Yearly Change</th>\n",
       "      <td>0.72</td>\n",
       "      <td>1.95</td>\n",
       "    </tr>\n",
       "    <tr>\n",
       "      <th>Net Change</th>\n",
       "      <td>6385</td>\n",
       "      <td>170915</td>\n",
       "    </tr>\n",
       "    <tr>\n",
       "      <th>Density (P/Km²)</th>\n",
       "      <td>358</td>\n",
       "      <td>20</td>\n",
       "    </tr>\n",
       "    <tr>\n",
       "      <th>Land Area (Km²)</th>\n",
       "      <td>2500</td>\n",
       "      <td>452860</td>\n",
       "    </tr>\n",
       "    <tr>\n",
       "      <th>Migrants (net)</th>\n",
       "      <td>-1256</td>\n",
       "      <td>-800</td>\n",
       "    </tr>\n",
       "    <tr>\n",
       "      <th>Fert. Rate</th>\n",
       "      <td>2.3</td>\n",
       "      <td>3.6</td>\n",
       "    </tr>\n",
       "    <tr>\n",
       "      <th>Med. Age</th>\n",
       "      <td>36</td>\n",
       "      <td>22</td>\n",
       "    </tr>\n",
       "    <tr>\n",
       "      <th>Urban Pop %</th>\n",
       "      <td>100.0</td>\n",
       "      <td>13.0</td>\n",
       "    </tr>\n",
       "    <tr>\n",
       "      <th>World Share</th>\n",
       "      <td>0.01</td>\n",
       "      <td>0.11</td>\n",
       "    </tr>\n",
       "    <tr>\n",
       "      <th>urban_pop_actual</th>\n",
       "      <td>895312.0</td>\n",
       "      <td>1163113.12</td>\n",
       "    </tr>\n",
       "    <tr>\n",
       "      <th>region</th>\n",
       "      <td>Africa</td>\n",
       "      <td>Oceania</td>\n",
       "    </tr>\n",
       "  </tbody>\n",
       "</table>\n",
       "</div>"
      ],
      "text/plain": [
       "                    Réunion Papua New Guinea\n",
       "Population (2020)    895312          8947024\n",
       "Yearly Change          0.72             1.95\n",
       "Net Change             6385           170915\n",
       "Density (P/Km²)         358               20\n",
       "Land Area (Km²)        2500           452860\n",
       "Migrants (net)        -1256             -800\n",
       "Fert. Rate              2.3              3.6\n",
       "Med. Age                 36               22\n",
       "Urban Pop %           100.0             13.0\n",
       "World Share            0.01             0.11\n",
       "urban_pop_actual   895312.0       1163113.12\n",
       "region               Africa          Oceania"
      ]
     },
     "execution_count": 34,
     "metadata": {},
     "output_type": "execute_result"
    }
   ],
   "source": [
    "highlow(\"Urban Pop %\")"
   ]
  },
  {
   "cell_type": "code",
   "execution_count": 35,
   "id": "f4dc09a2",
   "metadata": {},
   "outputs": [
    {
     "name": "stdout",
     "output_type": "stream",
     "text": [
      "United States has the highest Migrants (net)\n",
      "Venezuela has the lowest Migrants (net)\n"
     ]
    },
    {
     "data": {
      "text/html": [
       "<div>\n",
       "<style scoped>\n",
       "    .dataframe tbody tr th:only-of-type {\n",
       "        vertical-align: middle;\n",
       "    }\n",
       "\n",
       "    .dataframe tbody tr th {\n",
       "        vertical-align: top;\n",
       "    }\n",
       "\n",
       "    .dataframe thead th {\n",
       "        text-align: right;\n",
       "    }\n",
       "</style>\n",
       "<table border=\"1\" class=\"dataframe\">\n",
       "  <thead>\n",
       "    <tr style=\"text-align: right;\">\n",
       "      <th></th>\n",
       "      <th>United States</th>\n",
       "      <th>Venezuela</th>\n",
       "    </tr>\n",
       "  </thead>\n",
       "  <tbody>\n",
       "    <tr>\n",
       "      <th>Population (2020)</th>\n",
       "      <td>331002651</td>\n",
       "      <td>28435940</td>\n",
       "    </tr>\n",
       "    <tr>\n",
       "      <th>Yearly Change</th>\n",
       "      <td>0.59</td>\n",
       "      <td>-0.28</td>\n",
       "    </tr>\n",
       "    <tr>\n",
       "      <th>Net Change</th>\n",
       "      <td>1937734</td>\n",
       "      <td>-79889</td>\n",
       "    </tr>\n",
       "    <tr>\n",
       "      <th>Density (P/Km²)</th>\n",
       "      <td>36</td>\n",
       "      <td>32</td>\n",
       "    </tr>\n",
       "    <tr>\n",
       "      <th>Land Area (Km²)</th>\n",
       "      <td>9147420</td>\n",
       "      <td>882050</td>\n",
       "    </tr>\n",
       "    <tr>\n",
       "      <th>Migrants (net)</th>\n",
       "      <td>954806</td>\n",
       "      <td>-653249</td>\n",
       "    </tr>\n",
       "    <tr>\n",
       "      <th>Fert. Rate</th>\n",
       "      <td>1.8</td>\n",
       "      <td>2.3</td>\n",
       "    </tr>\n",
       "    <tr>\n",
       "      <th>Med. Age</th>\n",
       "      <td>38</td>\n",
       "      <td>30</td>\n",
       "    </tr>\n",
       "    <tr>\n",
       "      <th>Urban Pop %</th>\n",
       "      <td>83.0</td>\n",
       "      <td>59.524324</td>\n",
       "    </tr>\n",
       "    <tr>\n",
       "      <th>World Share</th>\n",
       "      <td>4.25</td>\n",
       "      <td>0.36</td>\n",
       "    </tr>\n",
       "    <tr>\n",
       "      <th>urban_pop_actual</th>\n",
       "      <td>274732200.33</td>\n",
       "      <td>23377527.271514</td>\n",
       "    </tr>\n",
       "    <tr>\n",
       "      <th>region</th>\n",
       "      <td>Americas</td>\n",
       "      <td>Americas</td>\n",
       "    </tr>\n",
       "  </tbody>\n",
       "</table>\n",
       "</div>"
      ],
      "text/plain": [
       "                  United States        Venezuela\n",
       "Population (2020)     331002651         28435940\n",
       "Yearly Change              0.59            -0.28\n",
       "Net Change              1937734           -79889\n",
       "Density (P/Km²)              36               32\n",
       "Land Area (Km²)         9147420           882050\n",
       "Migrants (net)           954806          -653249\n",
       "Fert. Rate                  1.8              2.3\n",
       "Med. Age                     38               30\n",
       "Urban Pop %                83.0        59.524324\n",
       "World Share                4.25             0.36\n",
       "urban_pop_actual   274732200.33  23377527.271514\n",
       "region                 Americas         Americas"
      ]
     },
     "execution_count": 35,
     "metadata": {},
     "output_type": "execute_result"
    }
   ],
   "source": [
    "highlow(\"Migrants (net)\")"
   ]
  },
  {
   "cell_type": "code",
   "execution_count": 36,
   "id": "96cc397e",
   "metadata": {},
   "outputs": [
    {
     "name": "stdout",
     "output_type": "stream",
     "text": [
      "Niger has the highest Yearly Change\n",
      "Puerto Rico has the lowest Yearly Change\n"
     ]
    },
    {
     "data": {
      "text/html": [
       "<div>\n",
       "<style scoped>\n",
       "    .dataframe tbody tr th:only-of-type {\n",
       "        vertical-align: middle;\n",
       "    }\n",
       "\n",
       "    .dataframe tbody tr th {\n",
       "        vertical-align: top;\n",
       "    }\n",
       "\n",
       "    .dataframe thead th {\n",
       "        text-align: right;\n",
       "    }\n",
       "</style>\n",
       "<table border=\"1\" class=\"dataframe\">\n",
       "  <thead>\n",
       "    <tr style=\"text-align: right;\">\n",
       "      <th></th>\n",
       "      <th>Niger</th>\n",
       "      <th>Puerto Rico</th>\n",
       "    </tr>\n",
       "  </thead>\n",
       "  <tbody>\n",
       "    <tr>\n",
       "      <th>Population (2020)</th>\n",
       "      <td>24206644</td>\n",
       "      <td>2860853</td>\n",
       "    </tr>\n",
       "    <tr>\n",
       "      <th>Yearly Change</th>\n",
       "      <td>3.84</td>\n",
       "      <td>-2.47</td>\n",
       "    </tr>\n",
       "    <tr>\n",
       "      <th>Net Change</th>\n",
       "      <td>895929</td>\n",
       "      <td>-72555</td>\n",
       "    </tr>\n",
       "    <tr>\n",
       "      <th>Density (P/Km²)</th>\n",
       "      <td>19</td>\n",
       "      <td>323</td>\n",
       "    </tr>\n",
       "    <tr>\n",
       "      <th>Land Area (Km²)</th>\n",
       "      <td>1266700</td>\n",
       "      <td>8870</td>\n",
       "    </tr>\n",
       "    <tr>\n",
       "      <th>Migrants (net)</th>\n",
       "      <td>4000</td>\n",
       "      <td>-97986</td>\n",
       "    </tr>\n",
       "    <tr>\n",
       "      <th>Fert. Rate</th>\n",
       "      <td>7.0</td>\n",
       "      <td>1.2</td>\n",
       "    </tr>\n",
       "    <tr>\n",
       "      <th>Med. Age</th>\n",
       "      <td>15</td>\n",
       "      <td>44</td>\n",
       "    </tr>\n",
       "    <tr>\n",
       "      <th>Urban Pop %</th>\n",
       "      <td>17.0</td>\n",
       "      <td>59.524324</td>\n",
       "    </tr>\n",
       "    <tr>\n",
       "      <th>World Share</th>\n",
       "      <td>0.31</td>\n",
       "      <td>0.04</td>\n",
       "    </tr>\n",
       "    <tr>\n",
       "      <th>urban_pop_actual</th>\n",
       "      <td>4115129.48</td>\n",
       "      <td>23377527.271514</td>\n",
       "    </tr>\n",
       "    <tr>\n",
       "      <th>region</th>\n",
       "      <td>Africa</td>\n",
       "      <td>Americas</td>\n",
       "    </tr>\n",
       "  </tbody>\n",
       "</table>\n",
       "</div>"
      ],
      "text/plain": [
       "                        Niger      Puerto Rico\n",
       "Population (2020)    24206644          2860853\n",
       "Yearly Change            3.84            -2.47\n",
       "Net Change             895929           -72555\n",
       "Density (P/Km²)            19              323\n",
       "Land Area (Km²)       1266700             8870\n",
       "Migrants (net)           4000           -97986\n",
       "Fert. Rate                7.0              1.2\n",
       "Med. Age                   15               44\n",
       "Urban Pop %              17.0        59.524324\n",
       "World Share              0.31             0.04\n",
       "urban_pop_actual   4115129.48  23377527.271514\n",
       "region                 Africa         Americas"
      ]
     },
     "execution_count": 36,
     "metadata": {},
     "output_type": "execute_result"
    }
   ],
   "source": [
    "highlow(\"Yearly Change\")"
   ]
  },
  {
   "cell_type": "code",
   "execution_count": 37,
   "id": "155c15ae",
   "metadata": {},
   "outputs": [
    {
     "data": {
      "text/plain": [
       "<function matplotlib.pyplot.show(close=None, block=None)>"
      ]
     },
     "execution_count": 37,
     "metadata": {},
     "output_type": "execute_result"
    },
    {
     "data": {
      "image/png": "[encoded data removed]",
      "text/plain": [
       "<Figure size 432x288 with 1 Axes>"
      ]
     },
     "metadata": {
      "needs_background": "light"
     },
     "output_type": "display_data"
    }
   ],
   "source": [
    "from matplotlib.pyplot import figure\n",
    "Top_25 = world_cont_upd_1.sort_values(\"Population (2020)\", ascending = False).iloc[:25]\n",
    "sns.barplot(x=\"Country/Other\",\n",
    "            y= \"Population (2020)\",\n",
    "            data = Top_25)\n",
    "\n",
    "plt.ylabel(\"Population in Billions\")\n",
    "plt.xlabel(\"Country\")\n",
    "plt.title(\"Top 25 Countries by Population\")\n",
    "locs, labels = plt.xticks()\n",
    "plt.setp(labels, rotation=45)\n",
    "plt.show"
   ]
  },
  {
   "cell_type": "code",
   "execution_count": 38,
   "id": "d0546f24",
   "metadata": {},
   "outputs": [
    {
     "data": {
      "text/plain": [
       "<function matplotlib.pyplot.show(close=None, block=None)>"
      ]
     },
     "execution_count": 38,
     "metadata": {},
     "output_type": "execute_result"
    },
    {
     "data": {
      "image/png": "[encoded data removed]",
      "text/plain": [
       "<Figure size 432x288 with 1 Axes>"
      ]
     },
     "metadata": {
      "needs_background": "light"
     },
     "output_type": "display_data"
    }
   ],
   "source": [
    "highest_urban_25 = world_cont_upd_1.sort_values(\"Urban Pop %\", ascending = False).iloc[:25]\n",
    "sns.barplot(x=\"Country/Other\",\n",
    "            y= \"Urban Pop %\",\n",
    "            data = highest_urban_25)\n",
    "\n",
    "plt.ylabel(\"Urban Population %\")\n",
    "plt.xlabel(\"Country\")\n",
    "plt.title(\"Top 25 Countries by Urban Population %\")\n",
    "locs, labels = plt.xticks()\n",
    "plt.setp(labels, rotation=45)\n",
    "plt.show"
   ]
  },
  {
   "cell_type": "code",
   "execution_count": 39,
   "id": "a25bb6ef",
   "metadata": {},
   "outputs": [
    {
     "data": {
      "text/plain": [
       "<function matplotlib.pyplot.show(close=None, block=None)>"
      ]
     },
     "execution_count": 39,
     "metadata": {},
     "output_type": "execute_result"
    },
    {
     "data": {
      "image/png": "[encoded data removed]",
      "text/plain": [
       "<Figure size 432x288 with 1 Axes>"
      ]
     },
     "metadata": {
      "needs_background": "light"
     },
     "output_type": "display_data"
    }
   ],
   "source": [
    "highest_area_25 = world_cont_upd_1.sort_values(\"Land Area (Km²)\", ascending = False).iloc[:25]\n",
    "sns.barplot(x=\"Country/Other\",\n",
    "            y= \"Land Area (Km²)\",\n",
    "            data = highest_area_25)\n",
    "\n",
    "plt.ylabel(\"Land Area\")\n",
    "plt.xlabel(\"Country\")\n",
    "plt.title(\"Top 25 Countries by size \")\n",
    "locs, labels = plt.xticks()\n",
    "plt.setp(labels, rotation=45)\n",
    "plt.show"
   ]
  },
  {
   "cell_type": "code",
   "execution_count": null,
   "id": "3176cdbf",
   "metadata": {},
   "outputs": [],
   "source": []
  },
  {
   "cell_type": "code",
   "execution_count": null,
   "id": "1eb21617",
   "metadata": {},
   "outputs": [],
   "source": []
  },
  {
   "cell_type": "code",
   "execution_count": null,
   "id": "66a2dd21",
   "metadata": {},
   "outputs": [],
   "source": []
  },
  {
   "cell_type": "code",
   "execution_count": 41,
   "id": "79664695",
   "metadata": {
    "scrolled": true
   },
   "outputs": [
    {
     "name": "stdout",
     "output_type": "stream",
     "text": [
      "          Population (2020)  Yearly Change  Net Change  Density (P/Km²)  \\\n",
      "region                                                                    \n",
      "Africa           1338404910         123.63    32482752             6588   \n",
      "Americas         1022090799          29.65     8106296             5939   \n",
      "Asia             4640617296          63.69    39679383            50797   \n",
      "Europe            741741016           1.99      470730             5661   \n",
      "Oceania            42318354          15.48      547798              910   \n",
      "\n",
      "          Land Area (Km²)  Migrants (net)  Fert. Rate  Med. Age  Urban Pop %  \\\n",
      "region                                                                         \n",
      "Africa           29619011         -459971       227.3      1185  2690.000000   \n",
      "Americas         38364496          674995        80.5      1237  2502.572973   \n",
      "Asia             31027861        -1729116       117.1      1542  2905.097297   \n",
      "Europe           22055822         1381681        58.7      1560  2709.000000   \n",
      "Oceania           8483760          159238        35.7       333   622.000000   \n",
      "\n",
      "          World Share  urban_pop_actual  country-code  region-code  \\\n",
      "region                                                               \n",
      "Africa          17.16      5.872575e+08         25007        110.0   \n",
      "Americas        13.12      8.822481e+08         14193        722.0   \n",
      "Asia            59.56      2.437137e+09         21356       7100.0   \n",
      "Europe           9.51      5.531186e+08         16037       5550.0   \n",
      "Oceania          0.52      2.872380e+07          5136        108.0   \n",
      "\n",
      "          sub-region-code  intermediate-region-code  \n",
      "region                                               \n",
      "Africa             9801.0                777.250000  \n",
      "Americas          15126.0                634.357143  \n",
      "Asia               4221.0                758.928571  \n",
      "Europe             4525.0                561.607143  \n",
      "Oceania             673.0                182.142857  \n"
     ]
    }
   ],
   "source": [
    "continent_totals = world_cont_upd.groupby(\"region\").sum()\n",
    "print(continent_totals)"
   ]
  },
  {
   "cell_type": "code",
   "execution_count": 42,
   "id": "f9c7d751",
   "metadata": {},
   "outputs": [],
   "source": [
    "continent_totals[\"Land Area % of world\"] = (continent_totals[\"Land Area (Km²)\"]/continent_totals[\"Land Area (Km²)\"].sum())*100"
   ]
  },
  {
   "cell_type": "code",
   "execution_count": 43,
   "id": "62ebbdf1",
   "metadata": {},
   "outputs": [],
   "source": [
    "continent_totals[\"urban_pop%\"] = continent_totals[\"urban_pop_actual\"]/continent_totals[\"Population (2020)\"]*100"
   ]
  },
  {
   "cell_type": "markdown",
   "id": "4bcfbc8a",
   "metadata": {},
   "source": [
    "Density p/Km2 = population / Land Are (Km2)"
   ]
  },
  {
   "cell_type": "code",
   "execution_count": 44,
   "id": "efec2438",
   "metadata": {},
   "outputs": [],
   "source": [
    "continent_totals[\"Density (P/Km²)\"] = continent_totals[\"Population (2020)\"]/continent_totals[\"Land Area (Km²)\"]*100"
   ]
  },
  {
   "cell_type": "code",
   "execution_count": 45,
   "id": "93bcfb42",
   "metadata": {},
   "outputs": [
    {
     "name": "stdout",
     "output_type": "stream",
     "text": [
      "          Population (2020)  Yearly Change  Net Change  Density (P/Km²)  \\\n",
      "region                                                                    \n",
      "Africa           1338404910         123.63    32482752      4518.735990   \n",
      "Americas         1022090799          29.65     8106296      2664.158025   \n",
      "Asia             4640617296          63.69    39679383     14956.291367   \n",
      "Europe            741741016           1.99      470730      3363.016876   \n",
      "Oceania            42318354          15.48      547798       498.816020   \n",
      "\n",
      "          Land Area (Km²)  Migrants (net)  Fert. Rate  Med. Age  Urban Pop %  \\\n",
      "region                                                                         \n",
      "Africa           29619011         -459971       227.3      1185  2690.000000   \n",
      "Americas         38364496          674995        80.5      1237  2502.572973   \n",
      "Asia             31027861        -1729116       117.1      1542  2905.097297   \n",
      "Europe           22055822         1381681        58.7      1560  2709.000000   \n",
      "Oceania           8483760          159238        35.7       333   622.000000   \n",
      "\n",
      "          World Share  urban_pop_actual  country-code  region-code  \\\n",
      "region                                                               \n",
      "Africa          17.16      5.872575e+08         25007        110.0   \n",
      "Americas        13.12      8.822481e+08         14193        722.0   \n",
      "Asia            59.56      2.437137e+09         21356       7100.0   \n",
      "Europe           9.51      5.531186e+08         16037       5550.0   \n",
      "Oceania          0.52      2.872380e+07          5136        108.0   \n",
      "\n",
      "          sub-region-code  intermediate-region-code  Land Area % of world  \\\n",
      "region                                                                      \n",
      "Africa             9801.0                777.250000             22.862828   \n",
      "Americas          15126.0                634.357143             29.613442   \n",
      "Asia               4221.0                758.928571             23.950315   \n",
      "Europe             4525.0                561.607143             17.024825   \n",
      "Oceania             673.0                182.142857              6.548590   \n",
      "\n",
      "          urban_pop%  \n",
      "region                \n",
      "Africa     43.877418  \n",
      "Americas   86.317978  \n",
      "Asia       52.517522  \n",
      "Europe     74.570312  \n",
      "Oceania    67.875513  \n"
     ]
    }
   ],
   "source": [
    "print(continent_totals)"
   ]
  },
  {
   "cell_type": "code",
   "execution_count": 46,
   "id": "92e983a8",
   "metadata": {},
   "outputs": [
    {
     "name": "stdout",
     "output_type": "stream",
     "text": [
      "          Population (2020)  Yearly Change  Net Change  Density (P/Km²)  \\\n",
      "region                                                                    \n",
      "Africa           1338404910         123.63    32482752      4518.735990   \n",
      "Americas         1022090799          29.65     8106296      2664.158025   \n",
      "Asia             4640617296          63.69    39679383     14956.291367   \n",
      "Europe            741741016           1.99      470730      3363.016876   \n",
      "Oceania            42318354          15.48      547798       498.816020   \n",
      "\n",
      "          Land Area (Km²)  Migrants (net)  Fert. Rate  Med. Age  Urban Pop %  \\\n",
      "region                                                                         \n",
      "Africa           29619011         -459971       227.3      1185  2690.000000   \n",
      "Americas         38364496          674995        80.5      1237  2502.572973   \n",
      "Asia             31027861        -1729116       117.1      1542  2905.097297   \n",
      "Europe           22055822         1381681        58.7      1560  2709.000000   \n",
      "Oceania           8483760          159238        35.7       333   622.000000   \n",
      "\n",
      "          World Share  urban_pop_actual  country-code  region-code  \\\n",
      "region                                                               \n",
      "Africa          17.16      5.872575e+08         25007        110.0   \n",
      "Americas        13.12      8.822481e+08         14193        722.0   \n",
      "Asia            59.56      2.437137e+09         21356       7100.0   \n",
      "Europe           9.51      5.531186e+08         16037       5550.0   \n",
      "Oceania          0.52      2.872380e+07          5136        108.0   \n",
      "\n",
      "          sub-region-code  intermediate-region-code  Land Area % of world  \\\n",
      "region                                                                      \n",
      "Africa             9801.0                777.250000             22.862828   \n",
      "Americas          15126.0                634.357143             29.613442   \n",
      "Asia               4221.0                758.928571             23.950315   \n",
      "Europe             4525.0                561.607143             17.024825   \n",
      "Oceania             673.0                182.142857              6.548590   \n",
      "\n",
      "          urban_pop%  \n",
      "region                \n",
      "Africa     43.877418  \n",
      "Americas   86.317978  \n",
      "Asia       52.517522  \n",
      "Europe     74.570312  \n",
      "Oceania    67.875513  \n"
     ]
    }
   ],
   "source": [
    "continent_totals.round(2)\n",
    "print(continent_totals)"
   ]
  },
  {
   "cell_type": "code",
   "execution_count": null,
   "id": "89a40bde",
   "metadata": {},
   "outputs": [],
   "source": []
  },
  {
   "cell_type": "code",
   "execution_count": null,
   "id": "f135f555",
   "metadata": {},
   "outputs": [],
   "source": []
  },
  {
   "cell_type": "code",
   "execution_count": null,
   "id": "e4e8338e",
   "metadata": {},
   "outputs": [],
   "source": []
  },
  {
   "cell_type": "code",
   "execution_count": null,
   "id": "56268849",
   "metadata": {},
   "outputs": [],
   "source": []
  },
  {
   "cell_type": "code",
   "execution_count": null,
   "id": "6c4e715a",
   "metadata": {},
   "outputs": [],
   "source": []
  },
  {
   "cell_type": "code",
   "execution_count": 47,
   "id": "82b8fd09",
   "metadata": {},
   "outputs": [
    {
     "data": {
      "text/plain": [
       "<function matplotlib.pyplot.show(close=None, block=None)>"
      ]
     },
     "execution_count": 47,
     "metadata": {},
     "output_type": "execute_result"
    },
    {
     "data": {
      "image/png": "[encoded data removed]",
      "text/plain": [
       "<Figure size 432x288 with 1 Axes>"
      ]
     },
     "metadata": {
      "needs_background": "light"
     },
     "output_type": "display_data"
    }
   ],
   "source": [
    "continent_totals[\"Net Change\"].plot(kind = \"barh\", title = \"Continents Population Net Change\")\n",
    "plt.show"
   ]
  },
  {
   "cell_type": "code",
   "execution_count": 48,
   "id": "02c18f04",
   "metadata": {},
   "outputs": [
    {
     "data": {
      "text/plain": [
       "<function matplotlib.pyplot.show(close=None, block=None)>"
      ]
     },
     "execution_count": 48,
     "metadata": {},
     "output_type": "execute_result"
    },
    {
     "data": {
      "image/png": "[encoded data removed]",
      "text/plain": [
       "<Figure size 432x288 with 1 Axes>"
      ]
     },
     "metadata": {
      "needs_background": "light"
     },
     "output_type": "display_data"
    }
   ],
   "source": [
    "continent_totals[\"Migrants (net)\"].plot(kind = \"barh\", title = \"Continents Migrants (net)\")\n",
    "plt.show"
   ]
  },
  {
   "cell_type": "code",
   "execution_count": 49,
   "id": "dbbddafc",
   "metadata": {},
   "outputs": [],
   "source": [
    "import matplotlib.pyplot as plt\n",
    "import seaborn as sns\n",
    "import matplotlib.ticker as ticker\n",
    "continent_totals_ri = continent_totals.reset_index()"
   ]
  },
  {
   "cell_type": "code",
   "execution_count": 50,
   "id": "a6d1bc5f",
   "metadata": {},
   "outputs": [
    {
     "data": {
      "image/png": "[encoded data removed]",
      "text/plain": [
       "<Figure size 432x288 with 1 Axes>"
      ]
     },
     "metadata": {},
     "output_type": "display_data"
    }
   ],
   "source": [
    "fig1_labels = continent_totals_ri[\"region\"]\n",
    "fig1_sizes = continent_totals_ri[\"Land Area % of world\"]\n",
    "fig1, ax1 = plt.subplots()\n",
    "ax1.pie(fig1_sizes, labels=fig1_labels, autopct='%1.1f%%', startangle=90)\n",
    "ax1.axis('equal') \n",
    "plt.title (\"% of World Area\",bbox={'facecolor':'0.8', 'pad':5}, loc=\"left\")\n",
    "plt.show()"
   ]
  },
  {
   "cell_type": "code",
   "execution_count": 51,
   "id": "2d358adc",
   "metadata": {},
   "outputs": [
    {
     "data": {
      "image/png": "[encoded data removed]",
      "text/plain": [
       "<Figure size 432x288 with 1 Axes>"
      ]
     },
     "metadata": {},
     "output_type": "display_data"
    }
   ],
   "source": [
    "fig2_labels = continent_totals_ri[\"region\"]\n",
    "fig2_sizes = continent_totals_ri[\"Population (2020)\"]\n",
    "fig2, ax1 = plt.subplots()\n",
    "ax1.pie(fig2_sizes, labels=fig2_labels, autopct='%1.1f%%', startangle=90)\n",
    "ax1.axis('equal') \n",
    "plt.title (\"% of World Population\",bbox={'facecolor':'0.8', 'pad':5}, loc=\"left\")\n",
    "plt.show()"
   ]
  },
  {
   "cell_type": "code",
   "execution_count": 52,
   "id": "44e2cc3e",
   "metadata": {},
   "outputs": [
    {
     "data": {
      "image/png": "[encoded data removed]",
      "text/plain": [
       "<Figure size 432x288 with 1 Axes>"
      ]
     },
     "metadata": {},
     "output_type": "display_data"
    }
   ],
   "source": [
    "fig3_labels = continent_totals_ri[\"region\"]\n",
    "fig3_sizes = continent_totals_ri[\"urban_pop_actual\"]\n",
    "fig3, ax1 = plt.subplots()\n",
    "ax1.pie(fig3_sizes, labels=fig3_labels, autopct='%1.1f%%', startangle=90)\n",
    "ax1.axis('equal') \n",
    "plt.title (\"% of Urban Population\",bbox={'facecolor':'0.8', 'pad':5}, loc=\"left\")\n",
    "plt.show()"
   ]
  },
  {
   "cell_type": "code",
   "execution_count": null,
   "id": "89789c7c",
   "metadata": {},
   "outputs": [],
   "source": []
  },
  {
   "cell_type": "code",
   "execution_count": 53,
   "id": "8a6f4895",
   "metadata": {},
   "outputs": [
    {
     "data": {
      "text/plain": [
       "Text(0.5, 1.0, 'UIrban Population by Continent')"
      ]
     },
     "execution_count": 53,
     "metadata": {},
     "output_type": "execute_result"
    },
    {
     "data": {
      "image/png": "[encoded data removed]",
      "text/plain": [
       "<Figure size 1080x576 with 4 Axes>"
      ]
     },
     "metadata": {
      "needs_background": "light"
     },
     "output_type": "display_data"
    }
   ],
   "source": [
    "fig, axes = plt.subplots(2, 2, sharex=True, figsize=(15,8))\n",
    "fig.suptitle('Continent View')\n",
    "sns.barplot(ax=axes[0,0],data = continent_totals_ri, x = \"region\", y = \"Population (2020)\")\n",
    "sns.barplot(ax=axes[0,1],data = continent_totals_ri, x = \"region\", y = \"Density (P/Km²)\")\n",
    "sns.barplot(ax=axes[1,0],data = continent_totals_ri, x = \"region\", y = \"Land Area % of world\")\n",
    "sns.barplot(ax=axes[1,1],data = continent_totals_ri, x = \"region\", y = \"urban_pop_actual\")\n",
    "axes[0,0].set_title(\"Population by Continent\")\n",
    "axes[0,1].set_title(\"Density by Continent\")\n",
    "axes[1,0].set_title(\"Land Area by Continent\")\n",
    "axes[1,1].set_title(\"UIrban Population by Continent\")"
   ]
  },
  {
   "cell_type": "code",
   "execution_count": null,
   "id": "e48a9fb5",
   "metadata": {},
   "outputs": [],
   "source": [
    "fig = plt.figure(figsize=(18,10), dpi=1600)\n",
    "\n",
    "#first row, first column\n",
    "ax1 = plt.subplot2grid((2,2),(0,0))\n",
    "ax1_labels = continent_totals_ri[\"region\"]\n",
    "ax1_sizes = continent_totals_ri[\"Population (2020)\"]\n",
    "ax1.pie(fig1_sizes, labels=fig1_labels, autopct='%1.1f%%', startangle=90)\n",
    "ax1.axis('equal') \n",
    "plt.title (\"Population\",bbox={'facecolor':'0.8', 'pad':5}, loc=\"left\")\n",
    "\n",
    "ax2 = plt.subplot2grid((2,2),(1,0))\n",
    "ax2_labels = continent_totals_ri[\"region\"]\n",
    "ax2_sizes = continent_totals_ri[\"Land Area % of world\"]\n",
    "ax2.pie(fig2_sizes, labels=fig2_labels, autopct='%1.1f%%', startangle=90)\n",
    "ax2.axis('equal') \n",
    "plt.title (\"% of World Area\",bbox={'facecolor':'0.8', 'pad':5}, loc=\"left\")\n",
    "\n",
    "\n",
    "ax3 = plt.subplot2grid((2,2),(0,1))\n",
    "ax3_labels = continent_totals_ri[\"region\"]\n",
    "ax3_sizes = continent_totals_ri[\"urban_pop_actual\"]\n",
    "ax3.pie(fig3_sizes, labels=fig3_labels, autopct='%1.1f%%', startangle=90)\n",
    "ax3.axis('equal') \n",
    "plt.title (\"urban_pop_actual\",bbox={'facecolor':'0.8', 'pad':5}, loc=\"left\")\n",
    "\n",
    "ax4 = plt.subplot2grid((2,2),(1,1))\n",
    "ax4_labels = continent_totals_ri[\"region\"]\n",
    "ax4_sizes = continent_totals_ri[\"Density (P/Km²)\"]\n",
    "ax4.pie(fig4_sizes, labels=fig4_labels, autopct='%1.1f%%', startangle=90)\n",
    "ax4.axis('equal') \n",
    "plt.title (\"Density (P/Km²)\",bbox={'facecolor':'0.8', 'pad':5}, loc=\"left\")\n",
    "\n",
    "plt.show()\n"
   ]
  },
  {
   "cell_type": "code",
   "execution_count": null,
   "id": "db775266",
   "metadata": {},
   "outputs": [],
   "source": []
  },
  {
   "cell_type": "code",
   "execution_count": null,
   "id": "fe84102d",
   "metadata": {},
   "outputs": [],
   "source": []
  }
 ],
 "metadata": {
  "kernelspec": {
   "display_name": "Python 3",
   "language": "python",
   "name": "python3"
  },
  "language_info": {
   "codemirror_mode": {
    "name": "ipython",
    "version": 3
   },
   "file_extension": ".py",
   "mimetype": "text/x-python",
   "name": "python",
   "nbconvert_exporter": "python",
   "pygments_lexer": "ipython3",
   "version": "3.8.8"
  }
 },
 "nbformat": 4,
 "nbformat_minor": 5
}
