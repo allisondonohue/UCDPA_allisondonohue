{
 "cells": [
  {
   "cell_type": "code",
   "execution_count": 3,
   "id": "28a1fdbe",
   "metadata": {
    "scrolled": true
   },
   "outputs": [],
   "source": [
    "import pandas as pd\n",
    "import numpy as np\n",
    "continents = pd.read_csv(\"C:\\\\Users\\\\allis\\\\OneDrive\\\\Documents\\\\UCD\\\\UCDPA_allisondonohue\\\\continents2.csv\")\n",
    "world = pd.read_csv(\"C:\\\\Users\\\\allis\\\\OneDrive\\\\Documents\\\\UCD\\\\UCDPA_allisondonohue\\\\world_population.csv\")"
   ]
  },
  {
   "cell_type": "code",
   "execution_count": 4,
   "id": "d7b22536",
   "metadata": {},
   "outputs": [
    {
     "name": "stdout",
     "output_type": "stream",
     "text": [
      "(201, 11)\n",
      "<class 'pandas.core.frame.DataFrame'>\n",
      "RangeIndex: 201 entries, 0 to 200\n",
      "Data columns (total 11 columns):\n",
      " #   Column             Non-Null Count  Dtype  \n",
      "---  ------             --------------  -----  \n",
      " 0   Country/Other      201 non-null    object \n",
      " 1   Population (2020)  201 non-null    int64  \n",
      " 2   Yearly Change      201 non-null    float64\n",
      " 3   Net Change         201 non-null    int64  \n",
      " 4   Density (P/Km²)    201 non-null    int64  \n",
      " 5   Land Area (Km²)    201 non-null    int64  \n",
      " 6   Migrants (net)     201 non-null    int64  \n",
      " 7   Fert. Rate         201 non-null    float64\n",
      " 8   Med. Age           201 non-null    int64  \n",
      " 9   Urban Pop %        194 non-null    float64\n",
      " 10  World Share        201 non-null    float64\n",
      "dtypes: float64(4), int64(6), object(1)\n",
      "memory usage: 17.4+ KB\n",
      "None\n"
     ]
    }
   ],
   "source": [
    "print(world.shape)\n",
    "print(world.info())"
   ]
  },
  {
   "cell_type": "code",
   "execution_count": 5,
   "id": "67c8c45b",
   "metadata": {
    "scrolled": true
   },
   "outputs": [
    {
     "name": "stdout",
     "output_type": "stream",
     "text": [
      "(249, 11)\n",
      "<class 'pandas.core.frame.DataFrame'>\n",
      "RangeIndex: 249 entries, 0 to 248\n",
      "Data columns (total 11 columns):\n",
      " #   Column                    Non-Null Count  Dtype  \n",
      "---  ------                    --------------  -----  \n",
      " 0   name                      249 non-null    object \n",
      " 1   alpha-2                   248 non-null    object \n",
      " 2   alpha-3                   249 non-null    object \n",
      " 3   country-code              249 non-null    int64  \n",
      " 4   iso_3166-2                249 non-null    object \n",
      " 5   region                    248 non-null    object \n",
      " 6   sub-region                248 non-null    object \n",
      " 7   intermediate-region       107 non-null    object \n",
      " 8   region-code               248 non-null    float64\n",
      " 9   sub-region-code           248 non-null    float64\n",
      " 10  intermediate-region-code  107 non-null    float64\n",
      "dtypes: float64(3), int64(1), object(7)\n",
      "memory usage: 21.5+ KB\n",
      "None\n"
     ]
    }
   ],
   "source": [
    "print(continents.shape)\n",
    "print(continents.info())"
   ]
  },
  {
   "cell_type": "code",
   "execution_count": 6,
   "id": "1b518731",
   "metadata": {
    "scrolled": true
   },
   "outputs": [
    {
     "name": "stdout",
     "output_type": "stream",
     "text": [
      "<class 'pandas.core.frame.DataFrame'>\n",
      "Int64Index: 201 entries, 0 to 200\n",
      "Data columns (total 22 columns):\n",
      " #   Column                    Non-Null Count  Dtype  \n",
      "---  ------                    --------------  -----  \n",
      " 0   Country/Other             201 non-null    object \n",
      " 1   Population (2020)         201 non-null    int64  \n",
      " 2   Yearly Change             201 non-null    float64\n",
      " 3   Net Change                201 non-null    int64  \n",
      " 4   Density (P/Km²)           201 non-null    int64  \n",
      " 5   Land Area (Km²)           201 non-null    int64  \n",
      " 6   Migrants (net)            201 non-null    int64  \n",
      " 7   Fert. Rate                201 non-null    float64\n",
      " 8   Med. Age                  201 non-null    int64  \n",
      " 9   Urban Pop %               194 non-null    float64\n",
      " 10  World Share               201 non-null    float64\n",
      " 11  name                      187 non-null    object \n",
      " 12  alpha-2                   186 non-null    object \n",
      " 13  alpha-3                   187 non-null    object \n",
      " 14  country-code              187 non-null    float64\n",
      " 15  iso_3166-2                187 non-null    object \n",
      " 16  region                    187 non-null    object \n",
      " 17  sub-region                187 non-null    object \n",
      " 18  intermediate-region       82 non-null     object \n",
      " 19  region-code               187 non-null    float64\n",
      " 20  sub-region-code           187 non-null    float64\n",
      " 21  intermediate-region-code  82 non-null     float64\n",
      "dtypes: float64(8), int64(6), object(8)\n",
      "memory usage: 36.1+ KB\n",
      "None\n"
     ]
    }
   ],
   "source": [
    "world_cont = world.merge(continents, how = \"left\", left_on = \"Country/Other\", right_on = \"name\")\n",
    "print(world_cont.info())"
   ]
  },
  {
   "cell_type": "code",
   "execution_count": 7,
   "id": "ac88bc06",
   "metadata": {},
   "outputs": [
    {
     "name": "stdout",
     "output_type": "stream",
     "text": [
      "                Country/Other  Population (2020)\n",
      "21     Bosnia and Herzegovina            3280819\n",
      "24                     Brunei             437479\n",
      "34            Channel Islands             173863\n",
      "45   Czech Republic (Czechia)           10708981\n",
      "46              Côte d'Ivoire           26378274\n",
      "47                   DR Congo           89561403\n",
      "75              Guinea-Bissau            1968001\n",
      "117                Micronesia             548914\n",
      "132               North Korea           25778816\n",
      "133           North Macedonia            2083374\n",
      "152       Sao Tome & Principe             219159\n",
      "168  St. Vincent & Grenadines             110940\n",
      "169        State of Palestine            5101414\n",
      "186       U.S. Virgin Islands             104425\n"
     ]
    }
   ],
   "source": [
    "print(world_cont.loc[world_cont[\"region\"].isnull(), [\"Country/Other\",\"Population (2020)\"]])"
   ]
  },
  {
   "cell_type": "code",
   "execution_count": 8,
   "id": "484510a8",
   "metadata": {},
   "outputs": [
    {
     "name": "stdout",
     "output_type": "stream",
     "text": [
      "                     name\n",
      "0             Afghanistan\n",
      "11                Armenia\n",
      "15             Azerbaijan\n",
      "17                Bahrain\n",
      "18             Bangladesh\n",
      "25                 Bhutan\n",
      "33      Brunei Darussalam\n",
      "38               Cambodia\n",
      "45                  China\n",
      "58                 Cyprus\n",
      "82                Georgia\n",
      "100             Hong Kong\n",
      "103                 India\n",
      "104             Indonesia\n",
      "105                  Iran\n",
      "106                  Iraq\n",
      "109                Israel\n",
      "112                 Japan\n",
      "114                Jordan\n",
      "115            Kazakhstan\n",
      "118           South Korea\n",
      "119    Korea, Republic of\n",
      "120                Kuwait\n",
      "121            Kyrgyzstan\n",
      "122                  Laos\n",
      "124               Lebanon\n",
      "131                 Macao\n",
      "134              Malaysia\n",
      "135              Maldives\n",
      "147              Mongolia\n",
      "152               Myanmar\n",
      "155                 Nepal\n",
      "167                  Oman\n",
      "168              Pakistan\n",
      "170   Palestine, State of\n",
      "175           Philippines\n",
      "180                 Qatar\n",
      "195          Saudi Arabia\n",
      "200             Singapore\n",
      "210             Sri Lanka\n",
      "216                 Syria\n",
      "217                Taiwan\n",
      "218            Tajikistan\n",
      "220              Thailand\n",
      "221           Timor-Leste\n",
      "227                Turkey\n",
      "228          Turkmenistan\n",
      "233  United Arab Emirates\n",
      "238            Uzbekistan\n",
      "241               Vietnam\n",
      "246                 Yemen\n"
     ]
    }
   ],
   "source": [
    "print(continents.loc[continents[\"region\"] ==\"Asia\",[\"name\"]])"
   ]
  },
  {
   "cell_type": "code",
   "execution_count": 121,
   "id": "57d4df88",
   "metadata": {},
   "outputs": [
    {
     "name": "stdout",
     "output_type": "stream",
     "text": [
      "                       name\n",
      "1             Åland Islands\n",
      "2                   Albania\n",
      "5                   Andorra\n",
      "14                  Austria\n",
      "20                  Belarus\n",
      "21                  Belgium\n",
      "28   Bosnia And Herzegovina\n",
      "34                 Bulgaria\n",
      "55                  Croatia\n",
      "59           Czech Republic\n",
      "60                  Denmark\n",
      "69                  Estonia\n",
      "73            Faroe Islands\n",
      "75                  Finland\n",
      "76                   France\n",
      "83                  Germany\n",
      "85                Gibraltar\n",
      "86                   Greece\n",
      "92                 Guernsey\n",
      "98                 Holy See\n",
      "101                 Hungary\n",
      "102                 Iceland\n",
      "107                 Ireland\n",
      "108             Isle of Man\n",
      "110                   Italy\n",
      "113                  Jersey\n",
      "123                  Latvia\n",
      "128           Liechtenstein\n",
      "129               Lithuania\n",
      "130              Luxembourg\n",
      "137                   Malta\n",
      "145                 Moldova\n",
      "146                  Monaco\n",
      "148              Montenegro\n",
      "156             Netherlands\n",
      "164               Macedonia\n",
      "166                  Norway\n",
      "177                  Poland\n",
      "178                Portugal\n",
      "182                 Romania\n",
      "183                  Russia\n",
      "193              San Marino\n",
      "197                  Serbia\n",
      "202                Slovakia\n",
      "203                Slovenia\n",
      "209                   Spain\n",
      "213  Svalbard and Jan Mayen\n",
      "214                  Sweden\n",
      "215             Switzerland\n",
      "232                 Ukraine\n",
      "234          United Kingdom\n"
     ]
    }
   ],
   "source": [
    "print(continents.loc[continents[\"region\"] ==\"Europe\",[\"name\"]])"
   ]
  },
  {
   "cell_type": "code",
   "execution_count": 9,
   "id": "c1af1205",
   "metadata": {},
   "outputs": [
    {
     "name": "stdout",
     "output_type": "stream",
     "text": [
      "                                             name\n",
      "3                                         Algeria\n",
      "6                                          Angola\n",
      "23                                          Benin\n",
      "29                                       Botswana\n",
      "32                 British Indian Ocean Territory\n",
      "35                                   Burkina Faso\n",
      "36                                        Burundi\n",
      "37                                     Cabo Verde\n",
      "39                                       Cameroon\n",
      "42                       Central African Republic\n",
      "43                                           Chad\n",
      "49                                        Comoros\n",
      "50                                          Congo\n",
      "51             Congo (Democratic Republic Of The)\n",
      "54                                  Côte D'Ivoire\n",
      "61                                       Djibouti\n",
      "65                                          Egypt\n",
      "67                              Equatorial Guinea\n",
      "68                                        Eritrea\n",
      "70                                       Eswatini\n",
      "71                                       Ethiopia\n",
      "79                    French Southern Territories\n",
      "80                                          Gabon\n",
      "81                                         Gambia\n",
      "84                                          Ghana\n",
      "93                                         Guinea\n",
      "94                                  Guinea Bissau\n",
      "116                                         Kenya\n",
      "125                                       Lesotho\n",
      "126                                       Liberia\n",
      "127                                         Libya\n",
      "132                                    Madagascar\n",
      "133                                        Malawi\n",
      "136                                          Mali\n",
      "140                                    Mauritania\n",
      "141                                     Mauritius\n",
      "142                                       Mayotte\n",
      "150                                       Morocco\n",
      "151                                    Mozambique\n",
      "153                                       Namibia\n",
      "160                                         Niger\n",
      "161                                       Nigeria\n",
      "181                                       Réunion\n",
      "184                                        Rwanda\n",
      "186  Saint Helena, Ascension and Tristan da Cunha\n",
      "194                         Sao Tome and Principe\n",
      "196                                       Senegal\n",
      "198                                    Seychelles\n",
      "199                                  Sierra Leone\n",
      "205                                       Somalia\n",
      "206                                  South Africa\n",
      "208                                   South Sudan\n",
      "211                                         Sudan\n",
      "219                                      Tanzania\n",
      "222                                          Togo\n",
      "226                                       Tunisia\n",
      "231                                        Uganda\n",
      "245                                Western Sahara\n",
      "247                                        Zambia\n",
      "248                                      Zimbabwe\n"
     ]
    }
   ],
   "source": [
    "print(continents.loc[continents[\"region\"] ==\"Africa\",[\"name\"]])"
   ]
  },
  {
   "cell_type": "code",
   "execution_count": 10,
   "id": "bed25993",
   "metadata": {},
   "outputs": [
    {
     "name": "stdout",
     "output_type": "stream",
     "text": [
      "(249, 11)\n"
     ]
    }
   ],
   "source": [
    "continents_updated = continents\n",
    "continents_updated[\"name\"] = continents_updated[\"name\"].replace([\"Korea, Republic of\",\"Palestine, State of\",\"Czech Republic\", \"Congo (Democratic Republic Of The)\",\"Côte D'Ivoire\"],[\"North Korea\",\"State of Palestine\",\"Czech Republic (Czechia)\",\"DR Congo\",\"Côte d'Ivoire\"])\n",
    "print(continents_updated.shape)\n"
   ]
  },
  {
   "cell_type": "code",
   "execution_count": 11,
   "id": "d49ad604",
   "metadata": {},
   "outputs": [
    {
     "name": "stdout",
     "output_type": "stream",
     "text": [
      "<class 'pandas.core.frame.DataFrame'>\n",
      "Int64Index: 192 entries, 0 to 191\n",
      "Data columns (total 22 columns):\n",
      " #   Column                    Non-Null Count  Dtype  \n",
      "---  ------                    --------------  -----  \n",
      " 0   Country/Other             192 non-null    object \n",
      " 1   Population (2020)         192 non-null    int64  \n",
      " 2   Yearly Change             192 non-null    float64\n",
      " 3   Net Change                192 non-null    int64  \n",
      " 4   Density (P/Km²)           192 non-null    int64  \n",
      " 5   Land Area (Km²)           192 non-null    int64  \n",
      " 6   Migrants (net)            192 non-null    int64  \n",
      " 7   Fert. Rate                192 non-null    float64\n",
      " 8   Med. Age                  192 non-null    int64  \n",
      " 9   Urban Pop %               185 non-null    float64\n",
      " 10  World Share               192 non-null    float64\n",
      " 11  name                      192 non-null    object \n",
      " 12  alpha-2                   191 non-null    object \n",
      " 13  alpha-3                   192 non-null    object \n",
      " 14  country-code              192 non-null    int64  \n",
      " 15  iso_3166-2                192 non-null    object \n",
      " 16  region                    192 non-null    object \n",
      " 17  sub-region                192 non-null    object \n",
      " 18  intermediate-region       84 non-null     object \n",
      " 19  region-code               192 non-null    float64\n",
      " 20  sub-region-code           192 non-null    float64\n",
      " 21  intermediate-region-code  84 non-null     float64\n",
      "dtypes: float64(7), int64(7), object(8)\n",
      "memory usage: 34.5+ KB\n",
      "None\n"
     ]
    }
   ],
   "source": [
    "world_cont_upd = world.merge(continents_updated, left_on = \"Country/Other\", right_on = \"name\")\n",
    "print(world_cont_upd.info())"
   ]
  },
  {
   "cell_type": "code",
   "execution_count": 12,
   "id": "733bdee2",
   "metadata": {},
   "outputs": [
    {
     "name": "stdout",
     "output_type": "stream",
     "text": [
      "Urban Pop %    59.524324\n",
      "dtype: float64\n"
     ]
    }
   ],
   "source": [
    "print(world_cont_upd[[\"Urban Pop %\"]].mean())"
   ]
  },
  {
   "cell_type": "code",
   "execution_count": 13,
   "id": "220bbde0",
   "metadata": {},
   "outputs": [
    {
     "name": "stdout",
     "output_type": "stream",
     "text": [
      "Urban Pop %    59.524324\n",
      "dtype: float64\n"
     ]
    }
   ],
   "source": [
    "world_cont_upd.fillna(world_cont_upd.mean(), inplace =True)\n",
    "print(world_cont_upd[[\"Urban Pop %\"]].mean())"
   ]
  },
  {
   "cell_type": "code",
   "execution_count": 14,
   "id": "799ebc7a",
   "metadata": {},
   "outputs": [
    {
     "name": "stdout",
     "output_type": "stream",
     "text": [
      "<class 'pandas.core.frame.DataFrame'>\n",
      "Int64Index: 192 entries, 0 to 191\n",
      "Data columns (total 22 columns):\n",
      " #   Column                    Non-Null Count  Dtype  \n",
      "---  ------                    --------------  -----  \n",
      " 0   Country/Other             192 non-null    object \n",
      " 1   Population (2020)         192 non-null    int64  \n",
      " 2   Yearly Change             192 non-null    float64\n",
      " 3   Net Change                192 non-null    int64  \n",
      " 4   Density (P/Km²)           192 non-null    int64  \n",
      " 5   Land Area (Km²)           192 non-null    int64  \n",
      " 6   Migrants (net)            192 non-null    int64  \n",
      " 7   Fert. Rate                192 non-null    float64\n",
      " 8   Med. Age                  192 non-null    int64  \n",
      " 9   Urban Pop %               192 non-null    float64\n",
      " 10  World Share               192 non-null    float64\n",
      " 11  name                      192 non-null    object \n",
      " 12  alpha-2                   191 non-null    object \n",
      " 13  alpha-3                   192 non-null    object \n",
      " 14  country-code              192 non-null    int64  \n",
      " 15  iso_3166-2                192 non-null    object \n",
      " 16  region                    192 non-null    object \n",
      " 17  sub-region                192 non-null    object \n",
      " 18  intermediate-region       84 non-null     object \n",
      " 19  region-code               192 non-null    float64\n",
      " 20  sub-region-code           192 non-null    float64\n",
      " 21  intermediate-region-code  192 non-null    float64\n",
      "dtypes: float64(7), int64(7), object(8)\n",
      "memory usage: 34.5+ KB\n",
      "None\n"
     ]
    }
   ],
   "source": [
    "print(world_cont_upd.info())"
   ]
  },
  {
   "cell_type": "code",
   "execution_count": 15,
   "id": "40cd7dd5",
   "metadata": {},
   "outputs": [
    {
     "name": "stdout",
     "output_type": "stream",
     "text": [
      "['Country/Other', 'Population (2020)', 'Yearly Change', 'Net Change', 'Density (P/Km²)', 'Land Area (Km²)', 'Migrants (net)', 'Fert. Rate', 'Med. Age', 'Urban Pop %', 'World Share', 'name', 'alpha-2', 'alpha-3', 'country-code', 'iso_3166-2', 'region', 'sub-region', 'intermediate-region', 'region-code', 'sub-region-code', 'intermediate-region-code']\n"
     ]
    }
   ],
   "source": [
    "print(list(world_cont_upd.columns.values))"
   ]
  },
  {
   "cell_type": "code",
   "execution_count": 16,
   "id": "12bece14",
   "metadata": {},
   "outputs": [],
   "source": [
    "world_cont_upd = world_cont_upd[['Country/Other', 'Population (2020)', 'Yearly Change', 'Net Change', 'Density (P/Km²)', 'Land Area (Km²)', 'Migrants (net)', 'Fert. Rate', 'Med. Age', 'Urban Pop %', 'World Share', \"region\"]]"
   ]
  },
  {
   "cell_type": "code",
   "execution_count": 19,
   "id": "fc0913a1",
   "metadata": {},
   "outputs": [
    {
     "name": "stdout",
     "output_type": "stream",
     "text": [
      "(192, 12)\n"
     ]
    }
   ],
   "source": [
    "print(world_cont_upd.shape)"
   ]
  },
  {
   "cell_type": "code",
   "execution_count": 24,
   "id": "79929d28",
   "metadata": {},
   "outputs": [],
   "source": [
    "world_cont_upd.set_index(\"Country/Other\", inplace = True)"
   ]
  },
  {
   "cell_type": "code",
   "execution_count": 25,
   "id": "e992b4fe",
   "metadata": {},
   "outputs": [
    {
     "name": "stdout",
     "output_type": "stream",
     "text": [
      "Index(['Afghanistan', 'Albania', 'Algeria', 'Angola', 'Antigua and Barbuda',\n",
      "       'Argentina', 'Armenia', 'Aruba', 'Australia', 'Austria',\n",
      "       ...\n",
      "       'United States', 'Uruguay', 'Uzbekistan', 'Vanuatu', 'Venezuela',\n",
      "       'Vietnam', 'Western Sahara', 'Yemen', 'Zambia', 'Zimbabwe'],\n",
      "      dtype='object', name='Country/Other', length=192)\n"
     ]
    }
   ],
   "source": [
    "print(world_cont_upd.index)"
   ]
  },
  {
   "cell_type": "markdown",
   "id": "f31bfe45",
   "metadata": {},
   "source": [
    "Look at the Countries with the Highest & Lowest Values"
   ]
  },
  {
   "cell_type": "code",
   "execution_count": 27,
   "id": "46a450ec",
   "metadata": {},
   "outputs": [
    {
     "name": "stdout",
     "output_type": "stream",
     "text": [
      "China\n"
     ]
    }
   ],
   "source": [
    "print(world_cont_upd[\"Population (2020)\"].idxmax())"
   ]
  },
  {
   "cell_type": "markdown",
   "id": "ae58935c",
   "metadata": {},
   "source": [
    "Above only gives the Country Name in the result. Below shows all the information for China for not clearly."
   ]
  },
  {
   "cell_type": "code",
   "execution_count": 29,
   "id": "ef3a8276",
   "metadata": {},
   "outputs": [
    {
     "name": "stdout",
     "output_type": "stream",
     "text": [
      "Population (2020)    1439323776\n",
      "Yearly Change              0.39\n",
      "Net Change              5540090\n",
      "Density (P/Km²)             153\n",
      "Land Area (Km²)         9388211\n",
      "Migrants (net)          -348399\n",
      "Fert. Rate                  1.7\n",
      "Med. Age                     38\n",
      "Urban Pop %                61.0\n",
      "World Share               18.47\n",
      "region                     Asia\n",
      "Name: China, dtype: object\n"
     ]
    }
   ],
   "source": [
    "print(world_cont_upd.loc[world_cont_upd[\"Population (2020)\"].idxmax()])"
   ]
  },
  {
   "cell_type": "markdown",
   "id": "27a5526c",
   "metadata": {},
   "source": [
    "This would be slow to replicate for each column heading but a definition would be quicker to get the highest and lowest values in the dataframe. Initial outputs from a definition of high and low combined were untidy. \n",
    "The pd.Dataframe command below (from the internet) creates a new dataframe of the results from the merged table based on the index of the highest or lowest value in the selected column which are printed using the return pd.concat command.\n"
   ]
  },
  {
   "cell_type": "code",
   "execution_count": 69,
   "id": "e262d4ed",
   "metadata": {},
   "outputs": [
    {
     "name": "stdout",
     "output_type": "stream",
     "text": [
      "China has the highest Population (2020)\n",
      "Antigua and Barbuda has the lowest Population (2020)\n"
     ]
    },
    {
     "data": {
      "text/html": [
       "<div>\n",
       "<style scoped>\n",
       "    .dataframe tbody tr th:only-of-type {\n",
       "        vertical-align: middle;\n",
       "    }\n",
       "\n",
       "    .dataframe tbody tr th {\n",
       "        vertical-align: top;\n",
       "    }\n",
       "\n",
       "    .dataframe thead th {\n",
       "        text-align: right;\n",
       "    }\n",
       "</style>\n",
       "<table border=\"1\" class=\"dataframe\">\n",
       "  <thead>\n",
       "    <tr style=\"text-align: right;\">\n",
       "      <th></th>\n",
       "      <th>China</th>\n",
       "      <th>Antigua and Barbuda</th>\n",
       "    </tr>\n",
       "  </thead>\n",
       "  <tbody>\n",
       "    <tr>\n",
       "      <th>Population (2020)</th>\n",
       "      <td>1439323776</td>\n",
       "      <td>97929</td>\n",
       "    </tr>\n",
       "    <tr>\n",
       "      <th>Yearly Change</th>\n",
       "      <td>0.39</td>\n",
       "      <td>0.84</td>\n",
       "    </tr>\n",
       "    <tr>\n",
       "      <th>Net Change</th>\n",
       "      <td>5540090</td>\n",
       "      <td>811</td>\n",
       "    </tr>\n",
       "    <tr>\n",
       "      <th>Density (P/Km²)</th>\n",
       "      <td>153</td>\n",
       "      <td>223</td>\n",
       "    </tr>\n",
       "    <tr>\n",
       "      <th>Land Area (Km²)</th>\n",
       "      <td>9388211</td>\n",
       "      <td>440</td>\n",
       "    </tr>\n",
       "    <tr>\n",
       "      <th>Migrants (net)</th>\n",
       "      <td>-348399</td>\n",
       "      <td>0</td>\n",
       "    </tr>\n",
       "    <tr>\n",
       "      <th>Fert. Rate</th>\n",
       "      <td>1.7</td>\n",
       "      <td>2.0</td>\n",
       "    </tr>\n",
       "    <tr>\n",
       "      <th>Med. Age</th>\n",
       "      <td>38</td>\n",
       "      <td>34</td>\n",
       "    </tr>\n",
       "    <tr>\n",
       "      <th>Urban Pop %</th>\n",
       "      <td>61.0</td>\n",
       "      <td>26.0</td>\n",
       "    </tr>\n",
       "    <tr>\n",
       "      <th>World Share</th>\n",
       "      <td>18.47</td>\n",
       "      <td>0.0</td>\n",
       "    </tr>\n",
       "    <tr>\n",
       "      <th>region</th>\n",
       "      <td>Asia</td>\n",
       "      <td>Americas</td>\n",
       "    </tr>\n",
       "  </tbody>\n",
       "</table>\n",
       "</div>"
      ],
      "text/plain": [
       "                        China Antigua and Barbuda\n",
       "Population (2020)  1439323776               97929\n",
       "Yearly Change            0.39                0.84\n",
       "Net Change            5540090                 811\n",
       "Density (P/Km²)           153                 223\n",
       "Land Area (Km²)       9388211                 440\n",
       "Migrants (net)        -348399                   0\n",
       "Fert. Rate                1.7                 2.0\n",
       "Med. Age                   38                  34\n",
       "Urban Pop %              61.0                26.0\n",
       "World Share             18.47                 0.0\n",
       "region                   Asia            Americas"
      ]
     },
     "execution_count": 69,
     "metadata": {},
     "output_type": "execute_result"
    }
   ],
   "source": [
    "def highlow(x):\n",
    "    highest_ind = world_cont_upd[x].idxmax()\n",
    "    lowest_ind = world_cont_upd[x].idxmin()\n",
    "    high = pd.DataFrame(world_cont_upd.loc[highest_ind,:])\n",
    "    low = pd.DataFrame(world_cont_upd.loc[lowest_ind,:])\n",
    "    print(world_cont_upd[x].idxmax() +\" has the highest \" + x)\n",
    "    print(world_cont_upd[x].idxmin() +\" has the lowest \" + x)\n",
    "    return pd.concat([high,low], axis =1)\n",
    "\n",
    "highlow(\"Population (2020)\")"
   ]
  },
  {
   "cell_type": "code",
   "execution_count": 71,
   "id": "d163ea95",
   "metadata": {},
   "outputs": [
    {
     "name": "stdout",
     "output_type": "stream",
     "text": [
      "Réunion has the highest Urban Pop %\n",
      "Papua New Guinea has the lowest Urban Pop %\n"
     ]
    },
    {
     "data": {
      "text/html": [
       "<div>\n",
       "<style scoped>\n",
       "    .dataframe tbody tr th:only-of-type {\n",
       "        vertical-align: middle;\n",
       "    }\n",
       "\n",
       "    .dataframe tbody tr th {\n",
       "        vertical-align: top;\n",
       "    }\n",
       "\n",
       "    .dataframe thead th {\n",
       "        text-align: right;\n",
       "    }\n",
       "</style>\n",
       "<table border=\"1\" class=\"dataframe\">\n",
       "  <thead>\n",
       "    <tr style=\"text-align: right;\">\n",
       "      <th></th>\n",
       "      <th>Réunion</th>\n",
       "      <th>Papua New Guinea</th>\n",
       "    </tr>\n",
       "  </thead>\n",
       "  <tbody>\n",
       "    <tr>\n",
       "      <th>Population (2020)</th>\n",
       "      <td>895312</td>\n",
       "      <td>8947024</td>\n",
       "    </tr>\n",
       "    <tr>\n",
       "      <th>Yearly Change</th>\n",
       "      <td>0.72</td>\n",
       "      <td>1.95</td>\n",
       "    </tr>\n",
       "    <tr>\n",
       "      <th>Net Change</th>\n",
       "      <td>6385</td>\n",
       "      <td>170915</td>\n",
       "    </tr>\n",
       "    <tr>\n",
       "      <th>Density (P/Km²)</th>\n",
       "      <td>358</td>\n",
       "      <td>20</td>\n",
       "    </tr>\n",
       "    <tr>\n",
       "      <th>Land Area (Km²)</th>\n",
       "      <td>2500</td>\n",
       "      <td>452860</td>\n",
       "    </tr>\n",
       "    <tr>\n",
       "      <th>Migrants (net)</th>\n",
       "      <td>-1256</td>\n",
       "      <td>-800</td>\n",
       "    </tr>\n",
       "    <tr>\n",
       "      <th>Fert. Rate</th>\n",
       "      <td>2.3</td>\n",
       "      <td>3.6</td>\n",
       "    </tr>\n",
       "    <tr>\n",
       "      <th>Med. Age</th>\n",
       "      <td>36</td>\n",
       "      <td>22</td>\n",
       "    </tr>\n",
       "    <tr>\n",
       "      <th>Urban Pop %</th>\n",
       "      <td>100.0</td>\n",
       "      <td>13.0</td>\n",
       "    </tr>\n",
       "    <tr>\n",
       "      <th>World Share</th>\n",
       "      <td>0.01</td>\n",
       "      <td>0.11</td>\n",
       "    </tr>\n",
       "    <tr>\n",
       "      <th>region</th>\n",
       "      <td>Africa</td>\n",
       "      <td>Oceania</td>\n",
       "    </tr>\n",
       "  </tbody>\n",
       "</table>\n",
       "</div>"
      ],
      "text/plain": [
       "                  Réunion Papua New Guinea\n",
       "Population (2020)  895312          8947024\n",
       "Yearly Change        0.72             1.95\n",
       "Net Change           6385           170915\n",
       "Density (P/Km²)       358               20\n",
       "Land Area (Km²)      2500           452860\n",
       "Migrants (net)      -1256             -800\n",
       "Fert. Rate            2.3              3.6\n",
       "Med. Age               36               22\n",
       "Urban Pop %         100.0             13.0\n",
       "World Share          0.01             0.11\n",
       "region             Africa          Oceania"
      ]
     },
     "execution_count": 71,
     "metadata": {},
     "output_type": "execute_result"
    }
   ],
   "source": [
    "def highlow(x):\n",
    "    highest_ind = world_cont_upd[x].idxmax()\n",
    "    lowest_ind = world_cont_upd[x].idxmin()\n",
    "    high = pd.DataFrame(world_cont_upd.loc[highest_ind,:])\n",
    "    low = pd.DataFrame(world_cont_upd.loc[lowest_ind,:])\n",
    "    print(world_cont_upd[x].idxmax() +\" has the highest \" + x)\n",
    "    print(world_cont_upd[x].idxmin() +\" has the lowest \" + x)\n",
    "    return pd.concat([high,low], axis =1)\n",
    "\n",
    "highlow(\"Urban Pop %\")"
   ]
  },
  {
   "cell_type": "code",
   "execution_count": 74,
   "id": "5c88053b",
   "metadata": {},
   "outputs": [
    {
     "name": "stdout",
     "output_type": "stream",
     "text": [
      "Macao has the highest Density (P/Km²)\n",
      "Mongolia has the lowest Density (P/Km²)\n"
     ]
    },
    {
     "data": {
      "text/html": [
       "<div>\n",
       "<style scoped>\n",
       "    .dataframe tbody tr th:only-of-type {\n",
       "        vertical-align: middle;\n",
       "    }\n",
       "\n",
       "    .dataframe tbody tr th {\n",
       "        vertical-align: top;\n",
       "    }\n",
       "\n",
       "    .dataframe thead th {\n",
       "        text-align: right;\n",
       "    }\n",
       "</style>\n",
       "<table border=\"1\" class=\"dataframe\">\n",
       "  <thead>\n",
       "    <tr style=\"text-align: right;\">\n",
       "      <th></th>\n",
       "      <th>Macao</th>\n",
       "      <th>Mongolia</th>\n",
       "    </tr>\n",
       "  </thead>\n",
       "  <tbody>\n",
       "    <tr>\n",
       "      <th>Population (2020)</th>\n",
       "      <td>649335</td>\n",
       "      <td>3278290</td>\n",
       "    </tr>\n",
       "    <tr>\n",
       "      <th>Yearly Change</th>\n",
       "      <td>1.39</td>\n",
       "      <td>1.65</td>\n",
       "    </tr>\n",
       "    <tr>\n",
       "      <th>Net Change</th>\n",
       "      <td>8890</td>\n",
       "      <td>53123</td>\n",
       "    </tr>\n",
       "    <tr>\n",
       "      <th>Density (P/Km²)</th>\n",
       "      <td>21645</td>\n",
       "      <td>2</td>\n",
       "    </tr>\n",
       "    <tr>\n",
       "      <th>Land Area (Km²)</th>\n",
       "      <td>30</td>\n",
       "      <td>1553560</td>\n",
       "    </tr>\n",
       "    <tr>\n",
       "      <th>Migrants (net)</th>\n",
       "      <td>5000</td>\n",
       "      <td>-852</td>\n",
       "    </tr>\n",
       "    <tr>\n",
       "      <th>Fert. Rate</th>\n",
       "      <td>1.2</td>\n",
       "      <td>2.9</td>\n",
       "    </tr>\n",
       "    <tr>\n",
       "      <th>Med. Age</th>\n",
       "      <td>39</td>\n",
       "      <td>28</td>\n",
       "    </tr>\n",
       "    <tr>\n",
       "      <th>Urban Pop %</th>\n",
       "      <td>59.524324</td>\n",
       "      <td>67.0</td>\n",
       "    </tr>\n",
       "    <tr>\n",
       "      <th>World Share</th>\n",
       "      <td>0.01</td>\n",
       "      <td>0.04</td>\n",
       "    </tr>\n",
       "    <tr>\n",
       "      <th>region</th>\n",
       "      <td>Asia</td>\n",
       "      <td>Asia</td>\n",
       "    </tr>\n",
       "  </tbody>\n",
       "</table>\n",
       "</div>"
      ],
      "text/plain": [
       "                       Macao Mongolia\n",
       "Population (2020)     649335  3278290\n",
       "Yearly Change           1.39     1.65\n",
       "Net Change              8890    53123\n",
       "Density (P/Km²)        21645        2\n",
       "Land Area (Km²)           30  1553560\n",
       "Migrants (net)          5000     -852\n",
       "Fert. Rate               1.2      2.9\n",
       "Med. Age                  39       28\n",
       "Urban Pop %        59.524324     67.0\n",
       "World Share             0.01     0.04\n",
       "region                  Asia     Asia"
      ]
     },
     "execution_count": 74,
     "metadata": {},
     "output_type": "execute_result"
    }
   ],
   "source": [
    "def highlow(x):\n",
    "    highest_ind = world_cont_upd[x].idxmax()\n",
    "    lowest_ind = world_cont_upd[x].idxmin()\n",
    "    high = pd.DataFrame(world_cont_upd.loc[highest_ind,:])\n",
    "    low = pd.DataFrame(world_cont_upd.loc[lowest_ind,:])\n",
    "    print(world_cont_upd[x].idxmax() +\" has the highest \" + x)\n",
    "    print(world_cont_upd[x].idxmin() +\" has the lowest \" + x)\n",
    "    return pd.concat([high,low], axis =1)\n",
    "\n",
    "highlow(\"Density (P/Km²)\")"
   ]
  },
  {
   "cell_type": "code",
   "execution_count": 75,
   "id": "f4dc09a2",
   "metadata": {},
   "outputs": [
    {
     "name": "stdout",
     "output_type": "stream",
     "text": [
      "United States has the highest Migrants (net)\n",
      "Venezuela has the lowest Migrants (net)\n"
     ]
    },
    {
     "data": {
      "text/html": [
       "<div>\n",
       "<style scoped>\n",
       "    .dataframe tbody tr th:only-of-type {\n",
       "        vertical-align: middle;\n",
       "    }\n",
       "\n",
       "    .dataframe tbody tr th {\n",
       "        vertical-align: top;\n",
       "    }\n",
       "\n",
       "    .dataframe thead th {\n",
       "        text-align: right;\n",
       "    }\n",
       "</style>\n",
       "<table border=\"1\" class=\"dataframe\">\n",
       "  <thead>\n",
       "    <tr style=\"text-align: right;\">\n",
       "      <th></th>\n",
       "      <th>United States</th>\n",
       "      <th>Venezuela</th>\n",
       "    </tr>\n",
       "  </thead>\n",
       "  <tbody>\n",
       "    <tr>\n",
       "      <th>Population (2020)</th>\n",
       "      <td>331002651</td>\n",
       "      <td>28435940</td>\n",
       "    </tr>\n",
       "    <tr>\n",
       "      <th>Yearly Change</th>\n",
       "      <td>0.59</td>\n",
       "      <td>-0.28</td>\n",
       "    </tr>\n",
       "    <tr>\n",
       "      <th>Net Change</th>\n",
       "      <td>1937734</td>\n",
       "      <td>-79889</td>\n",
       "    </tr>\n",
       "    <tr>\n",
       "      <th>Density (P/Km²)</th>\n",
       "      <td>36</td>\n",
       "      <td>32</td>\n",
       "    </tr>\n",
       "    <tr>\n",
       "      <th>Land Area (Km²)</th>\n",
       "      <td>9147420</td>\n",
       "      <td>882050</td>\n",
       "    </tr>\n",
       "    <tr>\n",
       "      <th>Migrants (net)</th>\n",
       "      <td>954806</td>\n",
       "      <td>-653249</td>\n",
       "    </tr>\n",
       "    <tr>\n",
       "      <th>Fert. Rate</th>\n",
       "      <td>1.8</td>\n",
       "      <td>2.3</td>\n",
       "    </tr>\n",
       "    <tr>\n",
       "      <th>Med. Age</th>\n",
       "      <td>38</td>\n",
       "      <td>30</td>\n",
       "    </tr>\n",
       "    <tr>\n",
       "      <th>Urban Pop %</th>\n",
       "      <td>83.0</td>\n",
       "      <td>59.524324</td>\n",
       "    </tr>\n",
       "    <tr>\n",
       "      <th>World Share</th>\n",
       "      <td>4.25</td>\n",
       "      <td>0.36</td>\n",
       "    </tr>\n",
       "    <tr>\n",
       "      <th>region</th>\n",
       "      <td>Americas</td>\n",
       "      <td>Americas</td>\n",
       "    </tr>\n",
       "  </tbody>\n",
       "</table>\n",
       "</div>"
      ],
      "text/plain": [
       "                  United States  Venezuela\n",
       "Population (2020)     331002651   28435940\n",
       "Yearly Change              0.59      -0.28\n",
       "Net Change              1937734     -79889\n",
       "Density (P/Km²)              36         32\n",
       "Land Area (Km²)         9147420     882050\n",
       "Migrants (net)           954806    -653249\n",
       "Fert. Rate                  1.8        2.3\n",
       "Med. Age                     38         30\n",
       "Urban Pop %                83.0  59.524324\n",
       "World Share                4.25       0.36\n",
       "region                 Americas   Americas"
      ]
     },
     "execution_count": 75,
     "metadata": {},
     "output_type": "execute_result"
    }
   ],
   "source": [
    "def highlow(x):\n",
    "    highest_ind = world_cont_upd[x].idxmax()\n",
    "    lowest_ind = world_cont_upd[x].idxmin()\n",
    "    high = pd.DataFrame(world_cont_upd.loc[highest_ind,:])\n",
    "    low = pd.DataFrame(world_cont_upd.loc[lowest_ind,:])\n",
    "    print(world_cont_upd[x].idxmax() +\" has the highest \" + x)\n",
    "    print(world_cont_upd[x].idxmin() +\" has the lowest \" + x)\n",
    "    return pd.concat([high,low], axis =1)\n",
    "\n",
    "highlow(\"Migrants (net)\")"
   ]
  },
  {
   "cell_type": "code",
   "execution_count": 76,
   "id": "96cc397e",
   "metadata": {},
   "outputs": [
    {
     "name": "stdout",
     "output_type": "stream",
     "text": [
      "Niger has the highest Yearly Change\n",
      "Puerto Rico has the lowest Yearly Change\n"
     ]
    },
    {
     "data": {
      "text/html": [
       "<div>\n",
       "<style scoped>\n",
       "    .dataframe tbody tr th:only-of-type {\n",
       "        vertical-align: middle;\n",
       "    }\n",
       "\n",
       "    .dataframe tbody tr th {\n",
       "        vertical-align: top;\n",
       "    }\n",
       "\n",
       "    .dataframe thead th {\n",
       "        text-align: right;\n",
       "    }\n",
       "</style>\n",
       "<table border=\"1\" class=\"dataframe\">\n",
       "  <thead>\n",
       "    <tr style=\"text-align: right;\">\n",
       "      <th></th>\n",
       "      <th>Niger</th>\n",
       "      <th>Puerto Rico</th>\n",
       "    </tr>\n",
       "  </thead>\n",
       "  <tbody>\n",
       "    <tr>\n",
       "      <th>Population (2020)</th>\n",
       "      <td>24206644</td>\n",
       "      <td>2860853</td>\n",
       "    </tr>\n",
       "    <tr>\n",
       "      <th>Yearly Change</th>\n",
       "      <td>3.84</td>\n",
       "      <td>-2.47</td>\n",
       "    </tr>\n",
       "    <tr>\n",
       "      <th>Net Change</th>\n",
       "      <td>895929</td>\n",
       "      <td>-72555</td>\n",
       "    </tr>\n",
       "    <tr>\n",
       "      <th>Density (P/Km²)</th>\n",
       "      <td>19</td>\n",
       "      <td>323</td>\n",
       "    </tr>\n",
       "    <tr>\n",
       "      <th>Land Area (Km²)</th>\n",
       "      <td>1266700</td>\n",
       "      <td>8870</td>\n",
       "    </tr>\n",
       "    <tr>\n",
       "      <th>Migrants (net)</th>\n",
       "      <td>4000</td>\n",
       "      <td>-97986</td>\n",
       "    </tr>\n",
       "    <tr>\n",
       "      <th>Fert. Rate</th>\n",
       "      <td>7.0</td>\n",
       "      <td>1.2</td>\n",
       "    </tr>\n",
       "    <tr>\n",
       "      <th>Med. Age</th>\n",
       "      <td>15</td>\n",
       "      <td>44</td>\n",
       "    </tr>\n",
       "    <tr>\n",
       "      <th>Urban Pop %</th>\n",
       "      <td>17.0</td>\n",
       "      <td>59.524324</td>\n",
       "    </tr>\n",
       "    <tr>\n",
       "      <th>World Share</th>\n",
       "      <td>0.31</td>\n",
       "      <td>0.04</td>\n",
       "    </tr>\n",
       "    <tr>\n",
       "      <th>region</th>\n",
       "      <td>Africa</td>\n",
       "      <td>Americas</td>\n",
       "    </tr>\n",
       "  </tbody>\n",
       "</table>\n",
       "</div>"
      ],
      "text/plain": [
       "                      Niger Puerto Rico\n",
       "Population (2020)  24206644     2860853\n",
       "Yearly Change          3.84       -2.47\n",
       "Net Change           895929      -72555\n",
       "Density (P/Km²)          19         323\n",
       "Land Area (Km²)     1266700        8870\n",
       "Migrants (net)         4000      -97986\n",
       "Fert. Rate              7.0         1.2\n",
       "Med. Age                 15          44\n",
       "Urban Pop %            17.0   59.524324\n",
       "World Share            0.31        0.04\n",
       "region               Africa    Americas"
      ]
     },
     "execution_count": 76,
     "metadata": {},
     "output_type": "execute_result"
    }
   ],
   "source": [
    "def highlow(x):\n",
    "    highest_ind = world_cont_upd[x].idxmax()\n",
    "    lowest_ind = world_cont_upd[x].idxmin()\n",
    "    high = pd.DataFrame(world_cont_upd.loc[highest_ind,:])\n",
    "    low = pd.DataFrame(world_cont_upd.loc[lowest_ind,:])\n",
    "    print(world_cont_upd[x].idxmax() +\" has the highest \" + x)\n",
    "    print(world_cont_upd[x].idxmin() +\" has the lowest \" + x)\n",
    "    return pd.concat([high,low], axis =1)\n",
    "\n",
    "highlow(\"Yearly Change\")"
   ]
  },
  {
   "cell_type": "code",
   "execution_count": null,
   "id": "67c599e2",
   "metadata": {},
   "outputs": [],
   "source": []
  }
 ],
 "metadata": {
  "kernelspec": {
   "display_name": "Python 3",
   "language": "python",
   "name": "python3"
  },
  "language_info": {
   "codemirror_mode": {
    "name": "ipython",
    "version": 3
   },
   "file_extension": ".py",
   "mimetype": "text/x-python",
   "name": "python",
   "nbconvert_exporter": "python",
   "pygments_lexer": "ipython3",
   "version": "3.8.8"
  }
 },
 "nbformat": 4,
 "nbformat_minor": 5
}
